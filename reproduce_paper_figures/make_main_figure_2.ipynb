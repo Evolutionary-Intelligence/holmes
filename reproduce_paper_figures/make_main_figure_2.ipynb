{
 "cells": [
  {
   "cell_type": "markdown",
   "metadata": {
    "Collapsed": "false"
   },
   "source": [
    "# Figure 2 main paper"
   ]
  },
  {
   "cell_type": "code",
   "execution_count": 2,
   "metadata": {
    "Collapsed": "false",
    "code_folding": []
   },
   "outputs": [],
   "source": [
    "# default print properties\n",
    "multiplier = 2\n",
    "\n",
    "pixel_cm_ration = 36.5\n",
    "\n",
    "width_full = int(13.95 * pixel_cm_ration) * multiplier\n",
    "width_half = int(13.95/2 * pixel_cm_ration) * multiplier\n",
    "width_quarter = int(13.95/2 * pixel_cm_ration) * multiplier\n",
    "\n",
    "height_default_1 = int(3.5 * pixel_cm_ration) * multiplier\n",
    "height_half = int(3.5/2 * pixel_cm_ration) * multiplier\n",
    "\n",
    "# margins in pixel\n",
    "top_margin = 25 * multiplier \n",
    "left_margin = 0 * multiplier \n",
    "right_margin = 0 * multiplier \n",
    "bottom_margin = 30 * multiplier \n",
    "\n",
    "font_size = 10 * multiplier \n",
    "font_family='Times New Roman'\n",
    "\n",
    "line_width = 2 * multiplier "
   ]
  },
  {
   "cell_type": "code",
   "execution_count": 3,
   "metadata": {
    "Collapsed": "false",
    "code_folding": []
   },
   "outputs": [
    {
     "data": {
      "text/html": [
       "        <script type=\"text/javascript\">\n",
       "        window.PlotlyConfig = {MathJaxConfig: 'local'};\n",
       "        if (window.MathJax) {MathJax.Hub.Config({SVG: {font: \"STIX-Web\"}});}\n",
       "        if (typeof require !== 'undefined') {\n",
       "        require.undef(\"plotly\");\n",
       "        requirejs.config({\n",
       "            paths: {\n",
       "                'plotly': ['https://cdn.plot.ly/plotly-latest.min']\n",
       "            }\n",
       "        });\n",
       "        require(['plotly'], function(Plotly) {\n",
       "            window._Plotly = Plotly;\n",
       "        });\n",
       "        }\n",
       "        </script>\n",
       "        "
      ]
     },
     "metadata": {},
     "output_type": "display_data"
    }
   ],
   "source": [
    "# Define and load data\n",
    "import autodisc as ad\n",
    "import ipywidgets\n",
    "import plotly\n",
    "import numpy as np\n",
    "import collections\n",
    "import os\n",
    "import sys\n",
    "plotly.offline.init_notebook_mode(connected=True)\n",
    "\n",
    "data_filters = collections.OrderedDict()\n",
    "data_filters['none'] = []\n",
    "data_filters['SLP'] = ('classifier_animal.data', '==', True)\n",
    "data_filters['TLP'] = (('classifier_dead.data', '==', False), 'and', ('classifier_animal.data', '==', False))\n",
    "\n",
    "org_experiment_definitions = dict()\n",
    "\n",
    "org_experiment_definitions['main_paper'] = [\n",
    "    dict(id = '1',\n",
    "         directory = '../experiments/IMGEP-BC-BetaVAE',\n",
    "         name = 'IMGEP-BC-BetaVAE',\n",
    "         is_default = True),\n",
    "    dict(id = '2',\n",
    "         directory = '../experiments/IMGEP-BC-PatchBetaVAE',\n",
    "         name = 'IMGEP-BC-PatchBetaVAE',\n",
    "         is_default = True),\n",
    "    dict(id = '3',\n",
    "         directory = '../experiments/IMGEP-BC-LeniaStatistics',\n",
    "         name = 'IMGEP-BC-LeniaStatistics',\n",
    "         is_default = True),\n",
    "    dict(id = '4',\n",
    "         directory = '../experiments/IMGEP-BC-EllipticalFourier',\n",
    "         name = 'IMGEP-BC-EllipticalFourier',\n",
    "         is_default = True),\n",
    "    dict(id = '5',\n",
    "         directory = '../experiments/IMGEP-BC-SpectrumFourier',\n",
    "         name = 'IMGEP-BC-SpectrumFourier',\n",
    "         is_default = True),\n",
    "]\n",
    "repetition_ids = list(range(10))\n",
    "\n",
    "# define names and load the data\n",
    "experiment_name_format = '<name>' # <id>, <name>\n",
    "\n",
    "#global experiment_definitions\n",
    "experiment_definitions = []\n",
    "experiment_statistics = []\n",
    "\n",
    "current_experiment_list = 'main_paper'\n",
    "\n",
    "experiment_definitions = []\n",
    "for org_exp_def in org_experiment_definitions[current_experiment_list]:\n",
    "    new_exp_def = dict()\n",
    "    new_exp_def['directory'] = org_exp_def['directory']\n",
    "    if 'is_default' in org_exp_def:\n",
    "        new_exp_def['is_default'] = org_exp_def['is_default']\n",
    "\n",
    "    if 'name' in org_exp_def:\n",
    "        new_exp_def['id'] = ad.gui.jupyter.misc.replace_str_from_dict(experiment_name_format, {'id': org_exp_def['id'], 'name': org_exp_def['name']})\n",
    "    else:\n",
    "        new_exp_def['id'] = ad.gui.jupyter.misc.replace_str_from_dict(experiment_name_format, {'id': org_exp_def['id']})\n",
    "\n",
    "    experiment_definitions.append(new_exp_def)\n",
    "\n",
    "experiment_statistics = dict()\n",
    "for experiment_definition in experiment_definitions:\n",
    "    experiment_statistics[experiment_definition['id']] = ad.gui.jupyter.misc.load_statistics(experiment_definition['directory'])\n",
    "       "
   ]
  },
  {
   "cell_type": "code",
   "execution_count": 4,
   "metadata": {
    "Collapsed": "false",
    "code_folding": [],
    "jupyter": {
     "source_hidden": true
    }
   },
   "outputs": [],
   "source": [
    "BC_bvae_analytic_space_ranges = dict()\n",
    "BC_patchbvae_analytic_space_ranges = dict()\n",
    "BC_leniastatistics_analytic_space_ranges = dict()\n",
    "BC_ellipticalfourier_analytic_space_ranges = dict()\n",
    "BC_spectrumfourier_analytic_space_ranges = dict()\n",
    "for i in range(8):\n",
    "    BC_bvae_analytic_space_ranges[('BC_bvae_analytic_space_representations','data','[{}]'.format(i))] = (0, 1)\n",
    "    BC_patchbvae_analytic_space_ranges[('BC_patchbvae_analytic_space_representations','data','[{}]'.format(i))] = (0, 1)\n",
    "    BC_leniastatistics_analytic_space_ranges[('BC_leniastatistics_analytic_space_representations','data','[{}]'.format(i))] = (0, 1)\n",
    "    BC_ellipticalfourier_analytic_space_ranges[('BC_ellipticalfourier_analytic_space_representations','data','[{}]'.format(i))] = (0, 1)\n",
    "    BC_spectrumfourier_analytic_space_ranges[('BC_spectrumfourier_analytic_space_representations','data','[{}]'.format(i))] = (0, 1)"
   ]
  },
  {
   "cell_type": "code",
   "execution_count": 5,
   "metadata": {},
   "outputs": [],
   "source": [
    "default_config = dict(\n",
    "    plotly_format = 'svg',\n",
    "    scatter_type= 'scatter_polar', \n",
    "\n",
    "    layout = dict(\n",
    "        font = dict(\n",
    "            family=font_family, \n",
    "            size=font_size, \n",
    "            ),\n",
    "        updatemenus=[],\n",
    "        width=width_half, # in cm\n",
    "        height=height_default_1, # in cm\n",
    "        \n",
    "        margin = dict(\n",
    "            l=left_margin, #left margin in pixel\n",
    "            r=right_margin, #right margin in pixel\n",
    "            b=bottom_margin, #bottom margin in pixel\n",
    "            t=top_margin,  #top margin in pixel\n",
    "            ),\n",
    "\n",
    "        legend=dict(\n",
    "            xanchor='left',\n",
    "            yanchor='top',\n",
    "            y=1,\n",
    "            x=1,\n",
    "         ),        \n",
    "        ),\n",
    "    \n",
    "    default_colors = ['rgb(204,121,167)', \n",
    "                      'rgb(0,114,178)',\n",
    "                      'rgb(230,159,0)',  \n",
    "                      'rgb(0,158,115)',\n",
    "                      'rgb(0,0,0)',\n",
    "                      'rgb(240,228,66)',\n",
    "                      'rgb(213,94,0)',  \n",
    "                      'rgb(86,180,233)',\n",
    "                     'rgb(214,39,40)',\n",
    "                     'rgb(148,103,189)',\n",
    "                     'rgb(140,86,75)',\n",
    "                     'rgb(127,127,127)'],\n",
    "\n",
    "    \n",
    "    default_mean_trace = dict(line=dict(width = line_width)),\n",
    "    \n",
    "    mean_traces = [\n",
    "        dict(line = dict(dash = 'dot')),\n",
    "        dict(line = dict(dash = 'dot')),\n",
    "        dict(line = dict(dash = 'dash')),\n",
    "        dict(line = dict(dash = 'longdashdot')),\n",
    "        dict(line = dict(dash = 'solid')),\n",
    "        dict(line = dict(dash = 'dashdot')),\n",
    "        dict(line = dict(dash = 'longdashdot')),\n",
    "        dict(line = dict(dash = 'solid')),\n",
    "        dict(line = dict(dash = 'dash')),\n",
    "        dict(line = dict(dash = 'dashdot')),\n",
    "        dict(line = dict(dash = 'dot')),\n",
    "        dict(line = dict(dash = 'longdash')),\n",
    "        dict(line = dict(dash = 'longdashdot')),\n",
    "    ],\n",
    "   \n",
    ")"
   ]
  },
  {
   "cell_type": "code",
   "execution_count": 6,
   "metadata": {
    "Collapsed": "false",
    "code_folding": [],
    "jupyter": {
     "source_hidden": true
    }
   },
   "outputs": [],
   "source": [
    "# General Functions to load data\n",
    "import warnings\n",
    "\n",
    "def calc_number_explored_bins(vectors, data_filter_inds, bin_config, ignore_out_of_range_values=False):\n",
    "    number_explored_bins_per_step = []\n",
    "    \n",
    "    # create section borders\n",
    "    bins_per_dim = []\n",
    "    for dim_config in bin_config:\n",
    "         bins_per_dim.append(np.linspace(dim_config[0], dim_config[1], num=dim_config[2]+1))\n",
    "\n",
    "    # identify point for every vector\n",
    "    count_per_section = collections.defaultdict(int)\n",
    "\n",
    "    for vector in vectors:\n",
    "\n",
    "        section = []\n",
    "\n",
    "        # check each dimension\n",
    "        for dim_idx in range(len(vector)):\n",
    "\n",
    "            # identify at which section in de fined grid the value falls\n",
    "            idxs = np.where(bins_per_dim[dim_idx] > vector[dim_idx])[0]\n",
    "\n",
    "            if len(idxs) == 0:\n",
    "                # value is larger than upper grid border\n",
    "                #warnings.warn('A Vector with value {} is outside the defined grid for dimension {}.'.format(vector[dim_idx], dim_idx))\n",
    "\n",
    "                if ignore_out_of_range_values:\n",
    "                    section = None\n",
    "                    break\n",
    "                else:\n",
    "                    section_idx = len(bins_per_dim[dim_idx])\n",
    "\n",
    "            elif idxs[0] == 0:\n",
    "                # value is smaller than lower grid border\n",
    "                #warnings.warn('A Vector with value {} is outside the defined grid for dimension {}.'.format(vector[dim_idx], dim_idx))\n",
    "\n",
    "                if ignore_out_of_range_values:\n",
    "                    section = None\n",
    "                    break\n",
    "                else:\n",
    "                    section_idx = -1\n",
    "            else:\n",
    "                section_idx = idxs[0]-1\n",
    "\n",
    "            section.append(section_idx)\n",
    "\n",
    "        if section is not None:\n",
    "            section = tuple(section)\n",
    "            count_per_section[section] += 1\n",
    "            \n",
    "        cur_n_bins = len(count_per_section)\n",
    "        \n",
    "        number_explored_bins_per_step.append(cur_n_bins)\n",
    "                \n",
    "    return number_explored_bins_per_step[-1]\n",
    "\n",
    "\n",
    "def calc_number_explored_bins_for_experiments(experiment_definitions, source_data, space_definitions, ignore_out_of_range_values=False, data_filter=None):\n",
    "    \n",
    "    data_filter_inds = None\n",
    "    if data_filter is not None and data_filter:\n",
    "        # filter data according data_filter the given filter\n",
    "        data_filter_inds = ad.gui.jupyter.misc.filter_experiments_data(source_data, data_filter)\n",
    "    \n",
    "    data_number_explored_bins_per_exp = dict()\n",
    "\n",
    "    \n",
    "    data_diversity = dict()\n",
    "    space_names = [list(i.keys())[0][0] for i in space_definitions]\n",
    "    \n",
    "    for exp_def in experiment_definitions:\n",
    "        exp_id = exp_def['id']\n",
    "        \n",
    "        rep_data_matrices = dict()\n",
    "        for space_name in space_names:\n",
    "            rep_data_matrices[space_name] = []\n",
    "\n",
    "        \n",
    "        bin_configs = []\n",
    "        cur_data_filter_inds = data_filter_inds[exp_id] if data_filter_inds is not None else None  \n",
    "\n",
    "        # load data and define the bin_config\n",
    "        for space_idx in range(len(space_definitions)):\n",
    "            space_name = space_names[space_idx]\n",
    "            space_definition = space_definitions[space_idx]\n",
    "            cur_bin_config = []\n",
    "            for dim_name, dim_ranges in space_definition.items():\n",
    "\n",
    "                # define the bin configuration for the current parameter\n",
    "                cur_bin_config.append((dim_ranges[0], dim_ranges[1], 10))\n",
    "\n",
    "                # get all repetition data for the current paramter\n",
    "                cur_data = ad.gui.jupyter.misc.get_experiment_data(data=source_data, experiment_id=exp_id, data_source=dim_name, repetition_ids='all', data_filter_inds=cur_data_filter_inds)\n",
    "                # go over repetitions\n",
    "                for rep_idx, cur_rep_data in enumerate(cur_data):\n",
    "                    if rep_idx not in repetition_ids:\n",
    "                        break;\n",
    "                    cur_rep_data = np.array([cur_rep_data]).transpose()\n",
    "\n",
    "                    if rep_idx >= len(rep_data_matrices[space_name]):\n",
    "                        rep_data_matrices[space_name].append(cur_rep_data)\n",
    "                    else:\n",
    "                        rep_data_matrices[space_name][rep_idx] = np.hstack((rep_data_matrices[space_name][rep_idx], cur_rep_data))\n",
    "            bin_configs.append(cur_bin_config)\n",
    "            \n",
    "        data_diversity[exp_id] = dict()\n",
    "        cur_diversity_data = np.zeros((len(cur_data), len(space_definitions))) #n_repet*n_spaces\n",
    "        for space_idx in range(len(space_definitions)):\n",
    "            space_name = space_names[space_idx]\n",
    "            space_definition = space_definitions[space_idx]\n",
    "            for rep_idx, rep_matrix_data in enumerate(rep_data_matrices[space_name]):\n",
    "                cur_rep_data_filter_inds = data_filter_inds[exp_id][rep_idx] if cur_data_filter_inds is not None else None  \n",
    "                rep_data =calc_number_explored_bins(rep_matrix_data, cur_rep_data_filter_inds, bin_configs[space_idx], ignore_out_of_range_values=ignore_out_of_range_values)\n",
    "                cur_diversity_data[rep_idx, space_idx] = rep_data\n",
    "        \n",
    "            \n",
    "            data_diversity[exp_id]['n_explored_bins'] = cur_diversity_data\n",
    "\n",
    "    return data_diversity\n"
   ]
  },
  {
   "cell_type": "code",
   "execution_count": 7,
   "metadata": {
    "Collapsed": "false",
    "code_folding": []
   },
   "outputs": [],
   "source": [
    "data_filter_name = 'none'\n",
    "data_filter = data_filters[data_filter_name]    \n",
    "# Load data\n",
    "BC_spaces_ranges = [BC_bvae_analytic_space_ranges,\n",
    "                    BC_patchbvae_analytic_space_ranges,\n",
    "                    BC_leniastatistics_analytic_space_ranges,\n",
    "                    BC_ellipticalfourier_analytic_space_ranges,\n",
    "                    BC_spectrumfourier_analytic_space_ranges,\n",
    "                   ]\n",
    "\n",
    "data_diversity = calc_number_explored_bins_for_experiments(\n",
    "    experiment_definitions, \n",
    "    experiment_statistics, \n",
    "    BC_spaces_ranges, \n",
    "    data_filter=data_filter)"
   ]
  },
  {
   "cell_type": "code",
   "execution_count": 8,
   "metadata": {},
   "outputs": [],
   "source": [
    "# Normalization by the maximum along each axis\n",
    "data_diversity_copy = data_diversity\n",
    "max_per_BC = np.zeros(len(BC_spaces_ranges))\n",
    "for exp_def in experiment_definitions:\n",
    "    exp_id = exp_def['id']\n",
    "    max_per_BC = np.maximum(max_per_BC, data_diversity[exp_id]['n_explored_bins'].max(0))\n",
    "for exp_def in experiment_definitions:\n",
    "    exp_id = exp_def['id']\n",
    "    data_diversity[exp_id]['n_explored_bins'] /= max_per_BC"
   ]
  },
  {
   "cell_type": "code",
   "execution_count": 10,
   "metadata": {},
   "outputs": [
    {
     "name": "stderr",
     "output_type": "stream",
     "text": [
      "/home/mayalen/miniconda3/envs/holmes/lib/python3.6/site-packages/plotly/tools.py:465: DeprecationWarning:\n",
      "\n",
      "plotly.tools.make_subplots is deprecated, please use plotly.subplots.make_subplots instead\n",
      "\n"
     ]
    },
    {
     "data": {
      "application/vnd.plotly.v1+json": {
       "config": {
        "linkText": "Export to plot.ly",
        "plotlyServerURL": "https://plot.ly",
        "showLink": false
       },
       "data": [
        {
         "hoverinfo": "r+theta",
         "legendgroup": "0-0",
         "line": {
          "color": "rgb(204,121,167)",
          "dash": "dot",
          "width": 4
         },
         "name": "IMGEP-BC-BetaVAE",
         "r": [
          0.9501696065128901,
          0.5189400278940027,
          0.34718826405867975,
          0.3723326799215906,
          0.19249848759830612,
          0.9501696065128901
         ],
         "text": [
          "0.9501696065128901 ± 0.027969939577366945",
          "0.5189400278940027 ± 0.02218974496526303",
          "0.34718826405867975 ± 0.017175930356658656",
          "0.3723326799215906 ± 0.024260415160980504",
          "0.19249848759830612 ± 0.00782623672295038"
         ],
         "theta": [
          "BetaVAE",
          "Patch-BetaVAE",
          "Lenia-Statistics",
          "Elliptical-Fourier",
          "Spectrum-Fourier",
          "BetaVAE"
         ],
         "type": "scatterpolar",
         "visible": true
        },
        {
         "fill": "toself",
         "fillcolor": "rgba(204,121,167, 0.2)",
         "hoverinfo": "none",
         "legendgroup": "0-0",
         "line": {
          "color": "rgba(255,255,255,0)"
         },
         "r": [
          0.978139546090257,
          0.5411297728592658,
          0.3643641944153384,
          0.39659309508257107,
          0.2003247243212565,
          0.978139546090257,
          0.9221996669355231,
          0.18467225087535574,
          0.3480722647606101,
          0.3300123337020211,
          0.4967502829287397,
          0.9221996669355231,
          0.978139546090257
         ],
         "showlegend": false,
         "theta": [
          "BetaVAE",
          "Patch-BetaVAE",
          "Lenia-Statistics",
          "Elliptical-Fourier",
          "Spectrum-Fourier",
          "BetaVAE",
          "BetaVAE",
          "Spectrum-Fourier",
          "Elliptical-Fourier",
          "Lenia-Statistics",
          "Patch-BetaVAE",
          "BetaVAE",
          "BetaVAE"
         ],
         "type": "scatterpolar",
         "visible": true
        },
        {
         "hoverinfo": "r+theta",
         "legendgroup": "0-1",
         "line": {
          "color": "rgb(0,114,178)",
          "dash": "dot",
          "width": 4
         },
         "name": "IMGEP-BC-PatchBetaVAE",
         "r": [
          0.33727951153324287,
          0.9709902370990235,
          0.3420537897310513,
          0.6103332399887986,
          0.39267997580157293,
          0.33727951153324287
         ],
         "text": [
          "0.33727951153324287 ± 0.01530677871516298",
          "0.9709902370990235 ± 0.01793694997575765",
          "0.3420537897310513 ± 0.013254900898219856",
          "0.6103332399887986 ± 0.02110652861360761",
          "0.39267997580157293 ± 0.011502051037006267"
         ],
         "theta": [
          "BetaVAE",
          "Patch-BetaVAE",
          "Lenia-Statistics",
          "Elliptical-Fourier",
          "Spectrum-Fourier",
          "BetaVAE"
         ],
         "type": "scatterpolar",
         "visible": true
        },
        {
         "fill": "toself",
         "fillcolor": "rgba(0,114,178, 0.2)",
         "hoverinfo": "none",
         "legendgroup": "0-1",
         "line": {
          "color": "rgba(255,255,255,0)"
         },
         "r": [
          0.3525862902484059,
          0.9889271870747812,
          0.3553086906292712,
          0.6314397686024062,
          0.4041820268385792,
          0.3525862902484059,
          0.32197273281807987,
          0.3811779247645667,
          0.589226711375191,
          0.3287988888328315,
          0.9530532871232659,
          0.32197273281807987,
          0.3525862902484059
         ],
         "showlegend": false,
         "theta": [
          "BetaVAE",
          "Patch-BetaVAE",
          "Lenia-Statistics",
          "Elliptical-Fourier",
          "Spectrum-Fourier",
          "BetaVAE",
          "BetaVAE",
          "Spectrum-Fourier",
          "Elliptical-Fourier",
          "Lenia-Statistics",
          "Patch-BetaVAE",
          "BetaVAE",
          "BetaVAE"
         ],
         "type": "scatterpolar",
         "visible": true
        },
        {
         "hoverinfo": "r+theta",
         "legendgroup": "0-2",
         "line": {
          "color": "rgb(230,159,0)",
          "dash": "dash",
          "width": 4
         },
         "name": "IMGEP-BC-LeniaStatistics",
         "r": [
          0.2975576662143827,
          0.3184379358437936,
          0.6342298288508557,
          0.30803696443573236,
          0.17961282516636423,
          0.2975576662143827
         ],
         "text": [
          "0.2975576662143827 ± 0.07347260172970967",
          "0.3184379358437936 ± 0.0774981745602972",
          "0.6342298288508557 ± 0.16487341376915424",
          "0.30803696443573236 ± 0.08884844476634754",
          "0.17961282516636423 ± 0.03563156764396206"
         ],
         "theta": [
          "BetaVAE",
          "Patch-BetaVAE",
          "Lenia-Statistics",
          "Elliptical-Fourier",
          "Spectrum-Fourier",
          "BetaVAE"
         ],
         "type": "scatterpolar",
         "visible": true
        },
        {
         "fill": "toself",
         "fillcolor": "rgba(230,159,0, 0.2)",
         "hoverinfo": "none",
         "legendgroup": "0-2",
         "line": {
          "color": "rgba(255,255,255,0)"
         },
         "r": [
          0.37103026794409233,
          0.3959361104040908,
          0.7991032426200099,
          0.39688540920207993,
          0.21524439281032628,
          0.37103026794409233,
          0.22408506448467302,
          0.14398125752240218,
          0.21918851966938482,
          0.46935641508170145,
          0.2409397612834964,
          0.22408506448467302,
          0.37103026794409233
         ],
         "showlegend": false,
         "theta": [
          "BetaVAE",
          "Patch-BetaVAE",
          "Lenia-Statistics",
          "Elliptical-Fourier",
          "Spectrum-Fourier",
          "BetaVAE",
          "BetaVAE",
          "Spectrum-Fourier",
          "Elliptical-Fourier",
          "Lenia-Statistics",
          "Patch-BetaVAE",
          "BetaVAE",
          "BetaVAE"
         ],
         "type": "scatterpolar",
         "visible": true
        },
        {
         "hoverinfo": "r+theta",
         "legendgroup": "0-3",
         "line": {
          "color": "rgb(0,158,115)",
          "dash": "longdashdot",
          "width": 4
         },
         "name": "IMGEP-BC-EllipticalFourier",
         "r": [
          0.22578018995929447,
          0.5454951185495118,
          0.28227383863080685,
          0.9613833660039205,
          0.2970356926799758,
          0.22578018995929447
         ],
         "text": [
          "0.22578018995929447 ± 0.03693785322703231",
          "0.5454951185495118 ± 0.14274962439715194",
          "0.28227383863080685 ± 0.015234157500864648",
          "0.9613833660039205 ± 0.031055575180825298",
          "0.2970356926799758 ± 0.05400438936835284"
         ],
         "theta": [
          "BetaVAE",
          "Patch-BetaVAE",
          "Lenia-Statistics",
          "Elliptical-Fourier",
          "Spectrum-Fourier",
          "BetaVAE"
         ],
         "type": "scatterpolar",
         "visible": true
        },
        {
         "fill": "toself",
         "fillcolor": "rgba(0,158,115, 0.2)",
         "hoverinfo": "none",
         "legendgroup": "0-3",
         "line": {
          "color": "rgba(255,255,255,0)"
         },
         "r": [
          0.2627180431863268,
          0.6882447429466638,
          0.2975079961316715,
          0.9924389411847457,
          0.35104008204832865,
          0.2627180431863268,
          0.18884233673226217,
          0.24303130331162298,
          0.9303277908230952,
          0.2670396811299422,
          0.4027454941523599,
          0.18884233673226217,
          0.2627180431863268
         ],
         "showlegend": false,
         "theta": [
          "BetaVAE",
          "Patch-BetaVAE",
          "Lenia-Statistics",
          "Elliptical-Fourier",
          "Spectrum-Fourier",
          "BetaVAE",
          "BetaVAE",
          "Spectrum-Fourier",
          "Elliptical-Fourier",
          "Lenia-Statistics",
          "Patch-BetaVAE",
          "BetaVAE",
          "BetaVAE"
         ],
         "type": "scatterpolar",
         "visible": true
        },
        {
         "hoverinfo": "r+theta",
         "legendgroup": "0-4",
         "line": {
          "color": "rgb(0,0,0)",
          "dash": "solid",
          "width": 4
         },
         "name": "IMGEP-BC-SpectrumFourier",
         "r": [
          0.29046811397557665,
          0.5343654114365411,
          0.3200488997555012,
          0.17292075049005884,
          0.9264972776769511,
          0.29046811397557665
         ],
         "text": [
          "0.29046811397557665 ± 0.017286590006634236",
          "0.5343654114365411 ± 0.05042338480562325",
          "0.3200488997555012 ± 0.021949127934744586",
          "0.17292075049005884 ± 0.028714370474454107",
          "0.9264972776769511 ± 0.06758862084798303"
         ],
         "theta": [
          "BetaVAE",
          "Patch-BetaVAE",
          "Lenia-Statistics",
          "Elliptical-Fourier",
          "Spectrum-Fourier",
          "BetaVAE"
         ],
         "type": "scatterpolar",
         "visible": true
        },
        {
         "fill": "toself",
         "fillcolor": "rgba(0,0,0, 0.2)",
         "hoverinfo": "none",
         "legendgroup": "0-4",
         "line": {
          "color": "rgba(255,255,255,0)"
         },
         "r": [
          0.3077547039822109,
          0.5847887962421644,
          0.3419980276902458,
          0.20163512096451294,
          0.9940858985249341,
          0.3077547039822109,
          0.2731815239689424,
          0.8589086568289681,
          0.14420638001560473,
          0.29809977182075664,
          0.4839420266309179,
          0.2731815239689424,
          0.3077547039822109
         ],
         "showlegend": false,
         "theta": [
          "BetaVAE",
          "Patch-BetaVAE",
          "Lenia-Statistics",
          "Elliptical-Fourier",
          "Spectrum-Fourier",
          "BetaVAE",
          "BetaVAE",
          "Spectrum-Fourier",
          "Elliptical-Fourier",
          "Lenia-Statistics",
          "Patch-BetaVAE",
          "BetaVAE",
          "BetaVAE"
         ],
         "type": "scatterpolar",
         "visible": true
        },
        {
         "line": {
          "color": "rgb(20, 12, 16)"
         },
         "name": "IMGEP-BC-BetaVAE - 0",
         "r": [
          0.9582767978290366,
          0.5500697350069735,
          0.35207823960880197,
          0.3814057686922431,
          0.18451300665456746,
          0.9582767978290366
         ],
         "theta": [
          "BetaVAE",
          "Patch-BetaVAE",
          "Lenia-Statistics",
          "Elliptical-Fourier",
          "Spectrum-Fourier",
          "BetaVAE"
         ],
         "type": "scatterpolar",
         "visible": false
        },
        {
         "line": {
          "color": "rgb(40, 24, 33)"
         },
         "name": "IMGEP-BC-BetaVAE - 1",
         "r": [
          0.9297829036635007,
          0.5221757322175732,
          0.3594132029339853,
          0.34892187062447494,
          0.20629159104658198,
          0.9297829036635007
         ],
         "theta": [
          "BetaVAE",
          "Patch-BetaVAE",
          "Lenia-Statistics",
          "Elliptical-Fourier",
          "Spectrum-Fourier",
          "BetaVAE"
         ],
         "type": "scatterpolar",
         "visible": false
        },
        {
         "line": {
          "color": "rgb(61, 36, 50)"
         },
         "name": "IMGEP-BC-BetaVAE - 2",
         "r": [
          0.9101085481682497,
          0.48926080892608087,
          0.3264058679706601,
          0.3382805936712405,
          0.1899576527525711,
          0.9101085481682497
         ],
         "theta": [
          "BetaVAE",
          "Patch-BetaVAE",
          "Lenia-Statistics",
          "Elliptical-Fourier",
          "Spectrum-Fourier",
          "BetaVAE"
         ],
         "type": "scatterpolar",
         "visible": false
        },
        {
         "line": {
          "color": "rgb(81, 48, 66)"
         },
         "name": "IMGEP-BC-BetaVAE - 3",
         "r": [
          0.939280868385346,
          0.5500697350069735,
          0.33496332518337407,
          0.35956314757770935,
          0.19903206291591047,
          0.939280868385346
         ],
         "theta": [
          "BetaVAE",
          "Patch-BetaVAE",
          "Lenia-Statistics",
          "Elliptical-Fourier",
          "Spectrum-Fourier",
          "BetaVAE"
         ],
         "type": "scatterpolar",
         "visible": false
        },
        {
         "line": {
          "color": "rgb(102, 60, 83)"
         },
         "name": "IMGEP-BC-BetaVAE - 4",
         "r": [
          0.932157394843962,
          0.48786610878661085,
          0.343520782396088,
          0.3654438532623915,
          0.1984271022383545,
          0.932157394843962
         ],
         "theta": [
          "BetaVAE",
          "Patch-BetaVAE",
          "Lenia-Statistics",
          "Elliptical-Fourier",
          "Spectrum-Fourier",
          "BetaVAE"
         ],
         "type": "scatterpolar",
         "visible": false
        },
        {
         "line": {
          "color": "rgb(122, 72, 100)"
         },
         "name": "IMGEP-BC-BetaVAE - 5",
         "r": [
          0.9721845318860244,
          0.5188284518828452,
          0.3471882640586797,
          0.40128815457854944,
          0.19540229885057472,
          0.9721845318860244
         ],
         "theta": [
          "BetaVAE",
          "Patch-BetaVAE",
          "Lenia-Statistics",
          "Elliptical-Fourier",
          "Spectrum-Fourier",
          "BetaVAE"
         ],
         "type": "scatterpolar",
         "visible": false
        },
        {
         "line": {
          "color": "rgb(142, 84, 116)"
         },
         "name": "IMGEP-BC-BetaVAE - 6",
         "r": [
          1,
          0.5246861924686193,
          0.34596577017114916,
          0.4225707084850182,
          0.19298245614035087,
          1
         ],
         "theta": [
          "BetaVAE",
          "Patch-BetaVAE",
          "Lenia-Statistics",
          "Elliptical-Fourier",
          "Spectrum-Fourier",
          "BetaVAE"
         ],
         "type": "scatterpolar",
         "visible": false
        },
        {
         "line": {
          "color": "rgb(163, 96, 133)"
         },
         "name": "IMGEP-BC-BetaVAE - 7",
         "r": [
          0.9721845318860244,
          0.4889818688981869,
          0.32396088019559904,
          0.3511621394567348,
          0.19479733817301875,
          0.9721845318860244
         ],
         "theta": [
          "BetaVAE",
          "Patch-BetaVAE",
          "Lenia-Statistics",
          "Elliptical-Fourier",
          "Spectrum-Fourier",
          "BetaVAE"
         ],
         "type": "scatterpolar",
         "visible": false
        },
        {
         "line": {
          "color": "rgb(183, 108, 150)"
         },
         "name": "IMGEP-BC-BetaVAE - 8",
         "r": [
          0.9735413839891451,
          0.5269177126917712,
          0.3508557457212714,
          0.373844861383366,
          0.18572292800967938,
          0.9735413839891451
         ],
         "theta": [
          "BetaVAE",
          "Patch-BetaVAE",
          "Lenia-Statistics",
          "Elliptical-Fourier",
          "Spectrum-Fourier",
          "BetaVAE"
         ],
         "type": "scatterpolar",
         "visible": false
        },
        {
         "line": {
          "color": "rgb(203, 120, 166)"
         },
         "name": "IMGEP-BC-BetaVAE - 9",
         "r": [
          0.914179104477612,
          0.5305439330543933,
          0.38753056234718825,
          0.3808457014841781,
          0.17785843920145192,
          0.914179104477612
         ],
         "theta": [
          "BetaVAE",
          "Patch-BetaVAE",
          "Lenia-Statistics",
          "Elliptical-Fourier",
          "Spectrum-Fourier",
          "BetaVAE"
         ],
         "type": "scatterpolar",
         "visible": false
        },
        {
         "line": {
          "color": "rgb(0, 11, 17)"
         },
         "name": "IMGEP-BC-PatchBetaVAE - 0",
         "r": [
          0.3378561736770692,
          0.9447698744769875,
          0.3484107579462103,
          0.6191542985158219,
          0.39019963702359345,
          0.3378561736770692
         ],
         "theta": [
          "BetaVAE",
          "Patch-BetaVAE",
          "Lenia-Statistics",
          "Elliptical-Fourier",
          "Spectrum-Fourier",
          "BetaVAE"
         ],
         "type": "scatterpolar",
         "visible": false
        },
        {
         "line": {
          "color": "rgb(0, 22, 35)"
         },
         "name": "IMGEP-BC-PatchBetaVAE - 1",
         "r": [
          0.3368385345997286,
          0.9807531380753138,
          0.3581907090464548,
          0.6006720806496779,
          0.3998790078644888,
          0.3368385345997286
         ],
         "theta": [
          "BetaVAE",
          "Patch-BetaVAE",
          "Lenia-Statistics",
          "Elliptical-Fourier",
          "Spectrum-Fourier",
          "BetaVAE"
         ],
         "type": "scatterpolar",
         "visible": false
        },
        {
         "line": {
          "color": "rgb(0, 34, 53)"
         },
         "name": "IMGEP-BC-PatchBetaVAE - 2",
         "r": [
          0.3083446404341927,
          0.9718270571827057,
          0.36797066014669927,
          0.6401568188182581,
          0.38294010889292196,
          0.3083446404341927
         ],
         "theta": [
          "BetaVAE",
          "Patch-BetaVAE",
          "Lenia-Statistics",
          "Elliptical-Fourier",
          "Spectrum-Fourier",
          "BetaVAE"
         ],
         "type": "scatterpolar",
         "visible": false
        },
        {
         "line": {
          "color": "rgb(0, 45, 71)"
         },
         "name": "IMGEP-BC-PatchBetaVAE - 3",
         "r": [
          0.33649932157394846,
          0.9818688981868898,
          0.3312958435207824,
          0.5849901988238588,
          0.39443436176648516,
          0.33649932157394846
         ],
         "theta": [
          "BetaVAE",
          "Patch-BetaVAE",
          "Lenia-Statistics",
          "Elliptical-Fourier",
          "Spectrum-Fourier",
          "BetaVAE"
         ],
         "type": "scatterpolar",
         "visible": false
        },
        {
         "line": {
          "color": "rgb(0, 57, 89)"
         },
         "name": "IMGEP-BC-PatchBetaVAE - 4",
         "r": [
          0.3239484396200814,
          0.9595536959553695,
          0.3410757946210269,
          0.6191542985158219,
          0.4047186932849365,
          0.3239484396200814
         ],
         "theta": [
          "BetaVAE",
          "Patch-BetaVAE",
          "Lenia-Statistics",
          "Elliptical-Fourier",
          "Spectrum-Fourier",
          "BetaVAE"
         ],
         "type": "scatterpolar",
         "visible": false
        },
        {
         "line": {
          "color": "rgb(0, 68, 106)"
         },
         "name": "IMGEP-BC-PatchBetaVAE - 5",
         "r": [
          0.33276797829036636,
          1,
          0.33007334963325186,
          0.6006720806496779,
          0.3926194797338173,
          0.33276797829036636
         ],
         "theta": [
          "BetaVAE",
          "Patch-BetaVAE",
          "Lenia-Statistics",
          "Elliptical-Fourier",
          "Spectrum-Fourier",
          "BetaVAE"
         ],
         "type": "scatterpolar",
         "visible": false
        },
        {
         "line": {
          "color": "rgb(0, 79, 124)"
         },
         "name": "IMGEP-BC-PatchBetaVAE - 6",
         "r": [
          0.366010854816825,
          0.9553695955369595,
          0.3215158924205379,
          0.6381965835900308,
          0.3762855414398064,
          0.366010854816825
         ],
         "theta": [
          "BetaVAE",
          "Patch-BetaVAE",
          "Lenia-Statistics",
          "Elliptical-Fourier",
          "Spectrum-Fourier",
          "BetaVAE"
         ],
         "type": "scatterpolar",
         "visible": false
        },
        {
         "line": {
          "color": "rgb(0, 91, 142)"
         },
         "name": "IMGEP-BC-PatchBetaVAE - 7",
         "r": [
          0.33242876526458615,
          0.99860529986053,
          0.33863080684596575,
          0.627275273032764,
          0.40411373260738054,
          0.33242876526458615
         ],
         "theta": [
          "BetaVAE",
          "Patch-BetaVAE",
          "Lenia-Statistics",
          "Elliptical-Fourier",
          "Spectrum-Fourier",
          "BetaVAE"
         ],
         "type": "scatterpolar",
         "visible": false
        },
        {
         "line": {
          "color": "rgb(0, 102, 160)"
         },
         "name": "IMGEP-BC-PatchBetaVAE - 8",
         "r": [
          0.33955223880597013,
          0.9623430962343096,
          0.3484107579462103,
          0.5726687202464296,
          0.40834845735027225,
          0.33955223880597013
         ],
         "theta": [
          "BetaVAE",
          "Patch-BetaVAE",
          "Lenia-Statistics",
          "Elliptical-Fourier",
          "Spectrum-Fourier",
          "BetaVAE"
         ],
         "type": "scatterpolar",
         "visible": false
        },
        {
         "line": {
          "color": "rgb(0, 113, 177)"
         },
         "name": "IMGEP-BC-PatchBetaVAE - 9",
         "r": [
          0.3585481682496608,
          0.9548117154811715,
          0.33496332518337407,
          0.6003920470456455,
          0.37326073805202664,
          0.3585481682496608
         ],
         "theta": [
          "BetaVAE",
          "Patch-BetaVAE",
          "Lenia-Statistics",
          "Elliptical-Fourier",
          "Spectrum-Fourier",
          "BetaVAE"
         ],
         "type": "scatterpolar",
         "visible": false
        },
        {
         "line": {
          "color": "rgb(23, 15, 0)"
         },
         "name": "IMGEP-BC-LeniaStatistics - 0",
         "r": [
          0.42842605156037994,
          0.4410041841004184,
          0.7995110024449877,
          0.45841500980117617,
          0.1820931639443436,
          0.42842605156037994
         ],
         "theta": [
          "BetaVAE",
          "Patch-BetaVAE",
          "Lenia-Statistics",
          "Elliptical-Fourier",
          "Spectrum-Fourier",
          "BetaVAE"
         ],
         "type": "scatterpolar",
         "visible": false
        },
        {
         "line": {
          "color": "rgb(46, 31, 0)"
         },
         "name": "IMGEP-BC-LeniaStatistics - 1",
         "r": [
          0.32801899592944367,
          0.295397489539749,
          0.6308068459657702,
          0.33660039204704567,
          0.18935269207501512,
          0.32801899592944367
         ],
         "theta": [
          "BetaVAE",
          "Patch-BetaVAE",
          "Lenia-Statistics",
          "Elliptical-Fourier",
          "Spectrum-Fourier",
          "BetaVAE"
         ],
         "type": "scatterpolar",
         "visible": false
        },
        {
         "line": {
          "color": "rgb(69, 47, 0)"
         },
         "name": "IMGEP-BC-LeniaStatistics - 2",
         "r": [
          0.24050203527815467,
          0.2733612273361227,
          0.5794621026894865,
          0.22542705124614953,
          0.16273442226255294,
          0.24050203527815467
         ],
         "theta": [
          "BetaVAE",
          "Patch-BetaVAE",
          "Lenia-Statistics",
          "Elliptical-Fourier",
          "Spectrum-Fourier",
          "BetaVAE"
         ],
         "type": "scatterpolar",
         "visible": false
        },
        {
         "line": {
          "color": "rgb(92, 63, 0)"
         },
         "name": "IMGEP-BC-LeniaStatistics - 3",
         "r": [
          0.3616010854816825,
          0.30767085076708506,
          0.5440097799511002,
          0.28059367124054885,
          0.17967332123411978,
          0.3616010854816825
         ],
         "theta": [
          "BetaVAE",
          "Patch-BetaVAE",
          "Lenia-Statistics",
          "Elliptical-Fourier",
          "Spectrum-Fourier",
          "BetaVAE"
         ],
         "type": "scatterpolar",
         "visible": false
        },
        {
         "line": {
          "color": "rgb(115, 79, 0)"
         },
         "name": "IMGEP-BC-LeniaStatistics - 4",
         "r": [
          0.38331071913161463,
          0.3548117154811716,
          0.6711491442542787,
          0.36628395407448894,
          0.19298245614035087,
          0.38331071913161463
         ],
         "theta": [
          "BetaVAE",
          "Patch-BetaVAE",
          "Lenia-Statistics",
          "Elliptical-Fourier",
          "Spectrum-Fourier",
          "BetaVAE"
         ],
         "type": "scatterpolar",
         "visible": false
        },
        {
         "line": {
          "color": "rgb(138, 95, 0)"
         },
         "name": "IMGEP-BC-LeniaStatistics - 5",
         "r": [
          0.2798507462686567,
          0.41785216178521617,
          0.7212713936430318,
          0.33884066087930553,
          0.27586206896551724,
          0.2798507462686567
         ],
         "theta": [
          "BetaVAE",
          "Patch-BetaVAE",
          "Lenia-Statistics",
          "Elliptical-Fourier",
          "Spectrum-Fourier",
          "BetaVAE"
         ],
         "type": "scatterpolar",
         "visible": false
        },
        {
         "line": {
          "color": "rgb(161, 111, 0)"
         },
         "name": "IMGEP-BC-LeniaStatistics - 6",
         "r": [
          0.2798507462686567,
          0.302928870292887,
          0.5122249388753056,
          0.2629515541865024,
          0.16212946158499697,
          0.2798507462686567
         ],
         "theta": [
          "BetaVAE",
          "Patch-BetaVAE",
          "Lenia-Statistics",
          "Elliptical-Fourier",
          "Spectrum-Fourier",
          "BetaVAE"
         ],
         "type": "scatterpolar",
         "visible": false
        },
        {
         "line": {
          "color": "rgb(183, 127, 0)"
         },
         "name": "IMGEP-BC-LeniaStatistics - 7",
         "r": [
          0.17503392130257803,
          0.19274755927475593,
          0.4119804400977995,
          0.16746009521142538,
          0.15184513006654568,
          0.17503392130257803
         ],
         "theta": [
          "BetaVAE",
          "Patch-BetaVAE",
          "Lenia-Statistics",
          "Elliptical-Fourier",
          "Spectrum-Fourier",
          "BetaVAE"
         ],
         "type": "scatterpolar",
         "visible": false
        },
        {
         "line": {
          "color": "rgb(206, 143, 0)"
         },
         "name": "IMGEP-BC-LeniaStatistics - 8",
         "r": [
          0.22761194029850745,
          0.21450488145048816,
          0.4718826405867971,
          0.21842621114533745,
          0.1482153660012099,
          0.22761194029850745
         ],
         "theta": [
          "BetaVAE",
          "Patch-BetaVAE",
          "Lenia-Statistics",
          "Elliptical-Fourier",
          "Spectrum-Fourier",
          "BetaVAE"
         ],
         "type": "scatterpolar",
         "visible": false
        },
        {
         "line": {
          "color": "rgb(229, 158, 0)"
         },
         "name": "IMGEP-BC-LeniaStatistics - 9",
         "r": [
          0.27137042062415195,
          0.38410041841004183,
          1,
          0.425371044525343,
          0.1512401693889897,
          0.27137042062415195
         ],
         "theta": [
          "BetaVAE",
          "Patch-BetaVAE",
          "Lenia-Statistics",
          "Elliptical-Fourier",
          "Spectrum-Fourier",
          "BetaVAE"
         ],
         "type": "scatterpolar",
         "visible": false
        },
        {
         "line": {
          "color": "rgb(0, 15, 11)"
         },
         "name": "IMGEP-BC-EllipticalFourier - 0",
         "r": [
          0.2744233378561737,
          0.6853556485355649,
          0.30073349633251834,
          0.9476337160459255,
          0.3454325468844525,
          0.2744233378561737
         ],
         "theta": [
          "BetaVAE",
          "Patch-BetaVAE",
          "Lenia-Statistics",
          "Elliptical-Fourier",
          "Spectrum-Fourier",
          "BetaVAE"
         ],
         "type": "scatterpolar",
         "visible": false
        },
        {
         "line": {
          "color": "rgb(0, 31, 23)"
         },
         "name": "IMGEP-BC-EllipticalFourier - 1",
         "r": [
          0.19674355495251017,
          0.25774058577405856,
          0.2591687041564792,
          0.9039484738168581,
          0.22928009679370842,
          0.19674355495251017
         ],
         "theta": [
          "BetaVAE",
          "Patch-BetaVAE",
          "Lenia-Statistics",
          "Elliptical-Fourier",
          "Spectrum-Fourier",
          "BetaVAE"
         ],
         "type": "scatterpolar",
         "visible": false
        },
        {
         "line": {
          "color": "rgb(0, 47, 34)"
         },
         "name": "IMGEP-BC-EllipticalFourier - 2",
         "r": [
          0.23337856173677068,
          0.6089260808926081,
          0.3080684596577017,
          0.9691963035564267,
          0.4162129461584997,
          0.23337856173677068
         ],
         "theta": [
          "BetaVAE",
          "Patch-BetaVAE",
          "Lenia-Statistics",
          "Elliptical-Fourier",
          "Spectrum-Fourier",
          "BetaVAE"
         ],
         "type": "scatterpolar",
         "visible": false
        },
        {
         "line": {
          "color": "rgb(0, 63, 46)"
         },
         "name": "IMGEP-BC-EllipticalFourier - 3",
         "r": [
          0.16383989145183175,
          0.6410041841004184,
          0.26772616136919314,
          0.9288714645757491,
          0.3472474289171204,
          0.16383989145183175
         ],
         "theta": [
          "BetaVAE",
          "Patch-BetaVAE",
          "Lenia-Statistics",
          "Elliptical-Fourier",
          "Spectrum-Fourier",
          "BetaVAE"
         ],
         "type": "scatterpolar",
         "visible": false
        },
        {
         "line": {
          "color": "rgb(0, 79, 57)"
         },
         "name": "IMGEP-BC-EllipticalFourier - 4",
         "r": [
          0.17978290366350066,
          0.5179916317991632,
          0.2775061124694376,
          0.9490338840660879,
          0.2710223835450696,
          0.17978290366350066
         ],
         "theta": [
          "BetaVAE",
          "Patch-BetaVAE",
          "Lenia-Statistics",
          "Elliptical-Fourier",
          "Spectrum-Fourier",
          "BetaVAE"
         ],
         "type": "scatterpolar",
         "visible": false
        },
        {
         "line": {
          "color": "rgb(0, 94, 69)"
         },
         "name": "IMGEP-BC-EllipticalFourier - 5",
         "r": [
          0.22727272727272727,
          0.6892608089260809,
          0.27995110024449876,
          1,
          0.3073200241984271,
          0.22727272727272727
         ],
         "theta": [
          "BetaVAE",
          "Patch-BetaVAE",
          "Lenia-Statistics",
          "Elliptical-Fourier",
          "Spectrum-Fourier",
          "BetaVAE"
         ],
         "type": "scatterpolar",
         "visible": false
        },
        {
         "line": {
          "color": "rgb(0, 110, 80)"
         },
         "name": "IMGEP-BC-EllipticalFourier - 6",
         "r": [
          0.20149253731343283,
          0.38688981868898187,
          0.2701711491442543,
          0.9983197983758051,
          0.2637628554143981,
          0.20149253731343283
         ],
         "theta": [
          "BetaVAE",
          "Patch-BetaVAE",
          "Lenia-Statistics",
          "Elliptical-Fourier",
          "Spectrum-Fourier",
          "BetaVAE"
         ],
         "type": "scatterpolar",
         "visible": false
        },
        {
         "line": {
          "color": "rgb(0, 126, 91)"
         },
         "name": "IMGEP-BC-EllipticalFourier - 7",
         "r": [
          0.25780189959294436,
          0.59302649930265,
          0.2713936430317848,
          0.9389526743209186,
          0.25226860254083483,
          0.25780189959294436
         ],
         "theta": [
          "BetaVAE",
          "Patch-BetaVAE",
          "Lenia-Statistics",
          "Elliptical-Fourier",
          "Spectrum-Fourier",
          "BetaVAE"
         ],
         "type": "scatterpolar",
         "visible": false
        },
        {
         "line": {
          "color": "rgb(0, 142, 103)"
         },
         "name": "IMGEP-BC-EllipticalFourier - 8",
         "r": [
          0.2727272727272727,
          0.39721059972106,
          0.2946210268948655,
          0.9910389246709606,
          0.26497277676951,
          0.2727272727272727
         ],
         "theta": [
          "BetaVAE",
          "Patch-BetaVAE",
          "Lenia-Statistics",
          "Elliptical-Fourier",
          "Spectrum-Fourier",
          "BetaVAE"
         ],
         "type": "scatterpolar",
         "visible": false
        },
        {
         "line": {
          "color": "rgb(0, 157, 114)"
         },
         "name": "IMGEP-BC-EllipticalFourier - 9",
         "r": [
          0.2503392130257802,
          0.6775453277545328,
          0.293398533007335,
          0.9868384206104732,
          0.27283726557773746,
          0.2503392130257802
         ],
         "theta": [
          "BetaVAE",
          "Patch-BetaVAE",
          "Lenia-Statistics",
          "Elliptical-Fourier",
          "Spectrum-Fourier",
          "BetaVAE"
         ],
         "type": "scatterpolar",
         "visible": false
        },
        {
         "line": {
          "color": "rgb(0, 0, 0)"
         },
         "name": "IMGEP-BC-SpectrumFourier - 0",
         "r": [
          0.3100407055630936,
          0.5707112970711297,
          0.32273838630806845,
          0.18622234668160179,
          1,
          0.3100407055630936
         ],
         "theta": [
          "BetaVAE",
          "Patch-BetaVAE",
          "Lenia-Statistics",
          "Elliptical-Fourier",
          "Spectrum-Fourier",
          "BetaVAE"
         ],
         "type": "scatterpolar",
         "visible": false
        },
        {
         "line": {
          "color": "rgb(0, 0, 0)"
         },
         "name": "IMGEP-BC-SpectrumFourier - 1",
         "r": [
          0.29172320217096337,
          0.5693165969316597,
          0.3264058679706601,
          0.1722206664799776,
          0.9733817301875378,
          0.29172320217096337
         ],
         "theta": [
          "BetaVAE",
          "Patch-BetaVAE",
          "Lenia-Statistics",
          "Elliptical-Fourier",
          "Spectrum-Fourier",
          "BetaVAE"
         ],
         "type": "scatterpolar",
         "visible": false
        },
        {
         "line": {
          "color": "rgb(0, 0, 0)"
         },
         "name": "IMGEP-BC-SpectrumFourier - 2",
         "r": [
          0.29341926729986434,
          0.4616457461645746,
          0.33863080684596575,
          0.21954634556146738,
          0.7676950998185118,
          0.29341926729986434
         ],
         "theta": [
          "BetaVAE",
          "Patch-BetaVAE",
          "Lenia-Statistics",
          "Elliptical-Fourier",
          "Spectrum-Fourier",
          "BetaVAE"
         ],
         "type": "scatterpolar",
         "visible": false
        },
        {
         "line": {
          "color": "rgb(0, 0, 0)"
         },
         "name": "IMGEP-BC-SpectrumFourier - 3",
         "r": [
          0.2940976933514247,
          0.598884239888424,
          0.27383863080684595,
          0.22710725287034444,
          0.9770114942528736,
          0.2940976933514247
         ],
         "theta": [
          "BetaVAE",
          "Patch-BetaVAE",
          "Lenia-Statistics",
          "Elliptical-Fourier",
          "Spectrum-Fourier",
          "BetaVAE"
         ],
         "type": "scatterpolar",
         "visible": false
        },
        {
         "line": {
          "color": "rgb(0, 0, 0)"
         },
         "name": "IMGEP-BC-SpectrumFourier - 4",
         "r": [
          0.28154681139755766,
          0.5679218967921896,
          0.28973105134474325,
          0.14141697003640435,
          0.9183303085299456,
          0.28154681139755766
         ],
         "theta": [
          "BetaVAE",
          "Patch-BetaVAE",
          "Lenia-Statistics",
          "Elliptical-Fourier",
          "Spectrum-Fourier",
          "BetaVAE"
         ],
         "type": "scatterpolar",
         "visible": false
        },
        {
         "line": {
          "color": "rgb(0, 0, 0)"
         },
         "name": "IMGEP-BC-SpectrumFourier - 5",
         "r": [
          0.3018995929443691,
          0.5085076708507671,
          0.3251833740831296,
          0.16213945673480817,
          0.9292196007259528,
          0.3018995929443691
         ],
         "theta": [
          "BetaVAE",
          "Patch-BetaVAE",
          "Lenia-Statistics",
          "Elliptical-Fourier",
          "Spectrum-Fourier",
          "BetaVAE"
         ],
         "type": "scatterpolar",
         "visible": false
        },
        {
         "line": {
          "color": "rgb(0, 0, 0)"
         },
         "name": "IMGEP-BC-SpectrumFourier - 6",
         "r": [
          0.30630936227951155,
          0.4934449093444909,
          0.3117359413202934,
          0.17250070008401008,
          0.8880822746521476,
          0.30630936227951155
         ],
         "theta": [
          "BetaVAE",
          "Patch-BetaVAE",
          "Lenia-Statistics",
          "Elliptical-Fourier",
          "Spectrum-Fourier",
          "BetaVAE"
         ],
         "type": "scatterpolar",
         "visible": false
        },
        {
         "line": {
          "color": "rgb(0, 0, 0)"
         },
         "name": "IMGEP-BC-SpectrumFourier - 7",
         "r": [
          0.24491180461329715,
          0.44490934449093444,
          0.33985330073349634,
          0.13945673480817697,
          0.868118572292801,
          0.24491180461329715
         ],
         "theta": [
          "BetaVAE",
          "Patch-BetaVAE",
          "Lenia-Statistics",
          "Elliptical-Fourier",
          "Spectrum-Fourier",
          "BetaVAE"
         ],
         "type": "scatterpolar",
         "visible": false
        },
        {
         "line": {
          "color": "rgb(0, 0, 0)"
         },
         "name": "IMGEP-BC-SpectrumFourier - 8",
         "r": [
          0.29511533242876525,
          0.5545327754532775,
          0.34963325183374083,
          0.15009801176141138,
          0.9461584996975196,
          0.29511533242876525
         ],
         "theta": [
          "BetaVAE",
          "Patch-BetaVAE",
          "Lenia-Statistics",
          "Elliptical-Fourier",
          "Spectrum-Fourier",
          "BetaVAE"
         ],
         "type": "scatterpolar",
         "visible": false
        },
        {
         "line": {
          "color": "rgb(0, 0, 0)"
         },
         "name": "IMGEP-BC-SpectrumFourier - 9",
         "r": [
          0.2856173677069199,
          0.5737796373779638,
          0.32273838630806845,
          0.15849901988238588,
          0.9969751966122202,
          0.2856173677069199
         ],
         "theta": [
          "BetaVAE",
          "Patch-BetaVAE",
          "Lenia-Statistics",
          "Elliptical-Fourier",
          "Spectrum-Fourier",
          "BetaVAE"
         ],
         "type": "scatterpolar",
         "visible": false
        }
       ],
       "layout": {
        "font": {
         "family": "Times New Roman",
         "size": 20
        },
        "height": 508,
        "legend": {
         "x": 1,
         "xanchor": "right",
         "y": 0,
         "yanchor": "bottom"
        },
        "margin": {
         "b": 60,
         "l": 0,
         "r": 0,
         "t": 50
        },
        "template": {
         "data": {
          "bar": [
           {
            "error_x": {
             "color": "#2a3f5f"
            },
            "error_y": {
             "color": "#2a3f5f"
            },
            "marker": {
             "line": {
              "color": "#E5ECF6",
              "width": 0.5
             }
            },
            "type": "bar"
           }
          ],
          "barpolar": [
           {
            "marker": {
             "line": {
              "color": "#E5ECF6",
              "width": 0.5
             }
            },
            "type": "barpolar"
           }
          ],
          "carpet": [
           {
            "aaxis": {
             "endlinecolor": "#2a3f5f",
             "gridcolor": "white",
             "linecolor": "white",
             "minorgridcolor": "white",
             "startlinecolor": "#2a3f5f"
            },
            "baxis": {
             "endlinecolor": "#2a3f5f",
             "gridcolor": "white",
             "linecolor": "white",
             "minorgridcolor": "white",
             "startlinecolor": "#2a3f5f"
            },
            "type": "carpet"
           }
          ],
          "choropleth": [
           {
            "colorbar": {
             "outlinewidth": 0,
             "ticks": ""
            },
            "type": "choropleth"
           }
          ],
          "contour": [
           {
            "colorbar": {
             "outlinewidth": 0,
             "ticks": ""
            },
            "colorscale": [
             [
              0,
              "#0d0887"
             ],
             [
              0.1111111111111111,
              "#46039f"
             ],
             [
              0.2222222222222222,
              "#7201a8"
             ],
             [
              0.3333333333333333,
              "#9c179e"
             ],
             [
              0.4444444444444444,
              "#bd3786"
             ],
             [
              0.5555555555555556,
              "#d8576b"
             ],
             [
              0.6666666666666666,
              "#ed7953"
             ],
             [
              0.7777777777777778,
              "#fb9f3a"
             ],
             [
              0.8888888888888888,
              "#fdca26"
             ],
             [
              1,
              "#f0f921"
             ]
            ],
            "type": "contour"
           }
          ],
          "contourcarpet": [
           {
            "colorbar": {
             "outlinewidth": 0,
             "ticks": ""
            },
            "type": "contourcarpet"
           }
          ],
          "heatmap": [
           {
            "colorbar": {
             "outlinewidth": 0,
             "ticks": ""
            },
            "colorscale": [
             [
              0,
              "#0d0887"
             ],
             [
              0.1111111111111111,
              "#46039f"
             ],
             [
              0.2222222222222222,
              "#7201a8"
             ],
             [
              0.3333333333333333,
              "#9c179e"
             ],
             [
              0.4444444444444444,
              "#bd3786"
             ],
             [
              0.5555555555555556,
              "#d8576b"
             ],
             [
              0.6666666666666666,
              "#ed7953"
             ],
             [
              0.7777777777777778,
              "#fb9f3a"
             ],
             [
              0.8888888888888888,
              "#fdca26"
             ],
             [
              1,
              "#f0f921"
             ]
            ],
            "type": "heatmap"
           }
          ],
          "heatmapgl": [
           {
            "colorbar": {
             "outlinewidth": 0,
             "ticks": ""
            },
            "colorscale": [
             [
              0,
              "#0d0887"
             ],
             [
              0.1111111111111111,
              "#46039f"
             ],
             [
              0.2222222222222222,
              "#7201a8"
             ],
             [
              0.3333333333333333,
              "#9c179e"
             ],
             [
              0.4444444444444444,
              "#bd3786"
             ],
             [
              0.5555555555555556,
              "#d8576b"
             ],
             [
              0.6666666666666666,
              "#ed7953"
             ],
             [
              0.7777777777777778,
              "#fb9f3a"
             ],
             [
              0.8888888888888888,
              "#fdca26"
             ],
             [
              1,
              "#f0f921"
             ]
            ],
            "type": "heatmapgl"
           }
          ],
          "histogram": [
           {
            "marker": {
             "colorbar": {
              "outlinewidth": 0,
              "ticks": ""
             }
            },
            "type": "histogram"
           }
          ],
          "histogram2d": [
           {
            "colorbar": {
             "outlinewidth": 0,
             "ticks": ""
            },
            "colorscale": [
             [
              0,
              "#0d0887"
             ],
             [
              0.1111111111111111,
              "#46039f"
             ],
             [
              0.2222222222222222,
              "#7201a8"
             ],
             [
              0.3333333333333333,
              "#9c179e"
             ],
             [
              0.4444444444444444,
              "#bd3786"
             ],
             [
              0.5555555555555556,
              "#d8576b"
             ],
             [
              0.6666666666666666,
              "#ed7953"
             ],
             [
              0.7777777777777778,
              "#fb9f3a"
             ],
             [
              0.8888888888888888,
              "#fdca26"
             ],
             [
              1,
              "#f0f921"
             ]
            ],
            "type": "histogram2d"
           }
          ],
          "histogram2dcontour": [
           {
            "colorbar": {
             "outlinewidth": 0,
             "ticks": ""
            },
            "colorscale": [
             [
              0,
              "#0d0887"
             ],
             [
              0.1111111111111111,
              "#46039f"
             ],
             [
              0.2222222222222222,
              "#7201a8"
             ],
             [
              0.3333333333333333,
              "#9c179e"
             ],
             [
              0.4444444444444444,
              "#bd3786"
             ],
             [
              0.5555555555555556,
              "#d8576b"
             ],
             [
              0.6666666666666666,
              "#ed7953"
             ],
             [
              0.7777777777777778,
              "#fb9f3a"
             ],
             [
              0.8888888888888888,
              "#fdca26"
             ],
             [
              1,
              "#f0f921"
             ]
            ],
            "type": "histogram2dcontour"
           }
          ],
          "mesh3d": [
           {
            "colorbar": {
             "outlinewidth": 0,
             "ticks": ""
            },
            "type": "mesh3d"
           }
          ],
          "parcoords": [
           {
            "line": {
             "colorbar": {
              "outlinewidth": 0,
              "ticks": ""
             }
            },
            "type": "parcoords"
           }
          ],
          "pie": [
           {
            "automargin": true,
            "type": "pie"
           }
          ],
          "scatter": [
           {
            "marker": {
             "colorbar": {
              "outlinewidth": 0,
              "ticks": ""
             }
            },
            "type": "scatter"
           }
          ],
          "scatter3d": [
           {
            "line": {
             "colorbar": {
              "outlinewidth": 0,
              "ticks": ""
             }
            },
            "marker": {
             "colorbar": {
              "outlinewidth": 0,
              "ticks": ""
             }
            },
            "type": "scatter3d"
           }
          ],
          "scattercarpet": [
           {
            "marker": {
             "colorbar": {
              "outlinewidth": 0,
              "ticks": ""
             }
            },
            "type": "scattercarpet"
           }
          ],
          "scattergeo": [
           {
            "marker": {
             "colorbar": {
              "outlinewidth": 0,
              "ticks": ""
             }
            },
            "type": "scattergeo"
           }
          ],
          "scattergl": [
           {
            "marker": {
             "colorbar": {
              "outlinewidth": 0,
              "ticks": ""
             }
            },
            "type": "scattergl"
           }
          ],
          "scattermapbox": [
           {
            "marker": {
             "colorbar": {
              "outlinewidth": 0,
              "ticks": ""
             }
            },
            "type": "scattermapbox"
           }
          ],
          "scatterpolar": [
           {
            "marker": {
             "colorbar": {
              "outlinewidth": 0,
              "ticks": ""
             }
            },
            "type": "scatterpolar"
           }
          ],
          "scatterpolargl": [
           {
            "marker": {
             "colorbar": {
              "outlinewidth": 0,
              "ticks": ""
             }
            },
            "type": "scatterpolargl"
           }
          ],
          "scatterternary": [
           {
            "marker": {
             "colorbar": {
              "outlinewidth": 0,
              "ticks": ""
             }
            },
            "type": "scatterternary"
           }
          ],
          "surface": [
           {
            "colorbar": {
             "outlinewidth": 0,
             "ticks": ""
            },
            "colorscale": [
             [
              0,
              "#0d0887"
             ],
             [
              0.1111111111111111,
              "#46039f"
             ],
             [
              0.2222222222222222,
              "#7201a8"
             ],
             [
              0.3333333333333333,
              "#9c179e"
             ],
             [
              0.4444444444444444,
              "#bd3786"
             ],
             [
              0.5555555555555556,
              "#d8576b"
             ],
             [
              0.6666666666666666,
              "#ed7953"
             ],
             [
              0.7777777777777778,
              "#fb9f3a"
             ],
             [
              0.8888888888888888,
              "#fdca26"
             ],
             [
              1,
              "#f0f921"
             ]
            ],
            "type": "surface"
           }
          ],
          "table": [
           {
            "cells": {
             "fill": {
              "color": "#EBF0F8"
             },
             "line": {
              "color": "white"
             }
            },
            "header": {
             "fill": {
              "color": "#C8D4E3"
             },
             "line": {
              "color": "white"
             }
            },
            "type": "table"
           }
          ]
         },
         "layout": {
          "annotationdefaults": {
           "arrowcolor": "#2a3f5f",
           "arrowhead": 0,
           "arrowwidth": 1
          },
          "coloraxis": {
           "colorbar": {
            "outlinewidth": 0,
            "ticks": ""
           }
          },
          "colorscale": {
           "diverging": [
            [
             0,
             "#8e0152"
            ],
            [
             0.1,
             "#c51b7d"
            ],
            [
             0.2,
             "#de77ae"
            ],
            [
             0.3,
             "#f1b6da"
            ],
            [
             0.4,
             "#fde0ef"
            ],
            [
             0.5,
             "#f7f7f7"
            ],
            [
             0.6,
             "#e6f5d0"
            ],
            [
             0.7,
             "#b8e186"
            ],
            [
             0.8,
             "#7fbc41"
            ],
            [
             0.9,
             "#4d9221"
            ],
            [
             1,
             "#276419"
            ]
           ],
           "sequential": [
            [
             0,
             "#0d0887"
            ],
            [
             0.1111111111111111,
             "#46039f"
            ],
            [
             0.2222222222222222,
             "#7201a8"
            ],
            [
             0.3333333333333333,
             "#9c179e"
            ],
            [
             0.4444444444444444,
             "#bd3786"
            ],
            [
             0.5555555555555556,
             "#d8576b"
            ],
            [
             0.6666666666666666,
             "#ed7953"
            ],
            [
             0.7777777777777778,
             "#fb9f3a"
            ],
            [
             0.8888888888888888,
             "#fdca26"
            ],
            [
             1,
             "#f0f921"
            ]
           ],
           "sequentialminus": [
            [
             0,
             "#0d0887"
            ],
            [
             0.1111111111111111,
             "#46039f"
            ],
            [
             0.2222222222222222,
             "#7201a8"
            ],
            [
             0.3333333333333333,
             "#9c179e"
            ],
            [
             0.4444444444444444,
             "#bd3786"
            ],
            [
             0.5555555555555556,
             "#d8576b"
            ],
            [
             0.6666666666666666,
             "#ed7953"
            ],
            [
             0.7777777777777778,
             "#fb9f3a"
            ],
            [
             0.8888888888888888,
             "#fdca26"
            ],
            [
             1,
             "#f0f921"
            ]
           ]
          },
          "colorway": [
           "#636efa",
           "#EF553B",
           "#00cc96",
           "#ab63fa",
           "#FFA15A",
           "#19d3f3",
           "#FF6692",
           "#B6E880",
           "#FF97FF",
           "#FECB52"
          ],
          "font": {
           "color": "#2a3f5f"
          },
          "geo": {
           "bgcolor": "white",
           "lakecolor": "white",
           "landcolor": "#E5ECF6",
           "showlakes": true,
           "showland": true,
           "subunitcolor": "white"
          },
          "hoverlabel": {
           "align": "left"
          },
          "hovermode": "closest",
          "mapbox": {
           "style": "light"
          },
          "paper_bgcolor": "white",
          "plot_bgcolor": "#E5ECF6",
          "polar": {
           "angularaxis": {
            "gridcolor": "white",
            "linecolor": "white",
            "ticks": ""
           },
           "bgcolor": "#E5ECF6",
           "radialaxis": {
            "gridcolor": "white",
            "linecolor": "white",
            "ticks": ""
           }
          },
          "scene": {
           "xaxis": {
            "backgroundcolor": "#E5ECF6",
            "gridcolor": "white",
            "gridwidth": 2,
            "linecolor": "white",
            "showbackground": true,
            "ticks": "",
            "zerolinecolor": "white"
           },
           "yaxis": {
            "backgroundcolor": "#E5ECF6",
            "gridcolor": "white",
            "gridwidth": 2,
            "linecolor": "white",
            "showbackground": true,
            "ticks": "",
            "zerolinecolor": "white"
           },
           "zaxis": {
            "backgroundcolor": "#E5ECF6",
            "gridcolor": "white",
            "gridwidth": 2,
            "linecolor": "white",
            "showbackground": true,
            "ticks": "",
            "zerolinecolor": "white"
           }
          },
          "shapedefaults": {
           "line": {
            "color": "#2a3f5f"
           }
          },
          "ternary": {
           "aaxis": {
            "gridcolor": "white",
            "linecolor": "white",
            "ticks": ""
           },
           "baxis": {
            "gridcolor": "white",
            "linecolor": "white",
            "ticks": ""
           },
           "bgcolor": "#E5ECF6",
           "caxis": {
            "gridcolor": "white",
            "linecolor": "white",
            "ticks": ""
           }
          },
          "title": {
           "x": 0.05
          },
          "xaxis": {
           "automargin": true,
           "gridcolor": "white",
           "linecolor": "white",
           "ticks": "",
           "title": {
            "standoff": 15
           },
           "zerolinecolor": "white",
           "zerolinewidth": 2
          },
          "yaxis": {
           "automargin": true,
           "gridcolor": "white",
           "linecolor": "white",
           "ticks": "",
           "title": {
            "standoff": 15
           },
           "zerolinecolor": "white",
           "zerolinewidth": 2
          }
         }
        },
        "title": {
         "text": "Diversities of patterns in each BC",
         "x": 0.04,
         "xanchor": "left",
         "y": 1,
         "yanchor": "top"
        },
        "width": 1018,
        "xaxis": {
         "anchor": "y",
         "domain": [
          0,
          1
         ]
        },
        "yaxis": {
         "anchor": "x",
         "domain": [
          0,
          1
         ]
        }
       }
      },
      "text/html": [
       "<div>\n",
       "        \n",
       "        \n",
       "            <div id=\"7f483219-8b47-44b6-8f24-299c03e4392d\" class=\"plotly-graph-div\" style=\"height:508px; width:1018px;\"></div>\n",
       "            <script type=\"text/javascript\">\n",
       "                require([\"plotly\"], function(Plotly) {\n",
       "                    window.PLOTLYENV=window.PLOTLYENV || {};\n",
       "                    \n",
       "                if (document.getElementById(\"7f483219-8b47-44b6-8f24-299c03e4392d\")) {\n",
       "                    Plotly.newPlot(\n",
       "                        '7f483219-8b47-44b6-8f24-299c03e4392d',\n",
       "                        [{\"hoverinfo\": \"r+theta\", \"legendgroup\": \"0-0\", \"line\": {\"color\": \"rgb(204,121,167)\", \"dash\": \"dot\", \"width\": 4}, \"name\": \"IMGEP-BC-BetaVAE\", \"r\": [0.9501696065128901, 0.5189400278940027, 0.34718826405867975, 0.3723326799215906, 0.19249848759830612, 0.9501696065128901], \"text\": [\"0.9501696065128901 \\u00b1 0.027969939577366945\", \"0.5189400278940027 \\u00b1 0.02218974496526303\", \"0.34718826405867975 \\u00b1 0.017175930356658656\", \"0.3723326799215906 \\u00b1 0.024260415160980504\", \"0.19249848759830612 \\u00b1 0.00782623672295038\"], \"theta\": [\"BetaVAE\", \"Patch-BetaVAE\", \"Lenia-Statistics\", \"Elliptical-Fourier\", \"Spectrum-Fourier\", \"BetaVAE\"], \"type\": \"scatterpolar\", \"visible\": true}, {\"fill\": \"toself\", \"fillcolor\": \"rgba(204,121,167, 0.2)\", \"hoverinfo\": \"none\", \"legendgroup\": \"0-0\", \"line\": {\"color\": \"rgba(255,255,255,0)\"}, \"r\": [0.978139546090257, 0.5411297728592658, 0.3643641944153384, 0.39659309508257107, 0.2003247243212565, 0.978139546090257, 0.9221996669355231, 0.18467225087535574, 0.3480722647606101, 0.3300123337020211, 0.4967502829287397, 0.9221996669355231, 0.978139546090257], \"showlegend\": false, \"theta\": [\"BetaVAE\", \"Patch-BetaVAE\", \"Lenia-Statistics\", \"Elliptical-Fourier\", \"Spectrum-Fourier\", \"BetaVAE\", \"BetaVAE\", \"Spectrum-Fourier\", \"Elliptical-Fourier\", \"Lenia-Statistics\", \"Patch-BetaVAE\", \"BetaVAE\", \"BetaVAE\"], \"type\": \"scatterpolar\", \"visible\": true}, {\"hoverinfo\": \"r+theta\", \"legendgroup\": \"0-1\", \"line\": {\"color\": \"rgb(0,114,178)\", \"dash\": \"dot\", \"width\": 4}, \"name\": \"IMGEP-BC-PatchBetaVAE\", \"r\": [0.33727951153324287, 0.9709902370990235, 0.3420537897310513, 0.6103332399887986, 0.39267997580157293, 0.33727951153324287], \"text\": [\"0.33727951153324287 \\u00b1 0.01530677871516298\", \"0.9709902370990235 \\u00b1 0.01793694997575765\", \"0.3420537897310513 \\u00b1 0.013254900898219856\", \"0.6103332399887986 \\u00b1 0.02110652861360761\", \"0.39267997580157293 \\u00b1 0.011502051037006267\"], \"theta\": [\"BetaVAE\", \"Patch-BetaVAE\", \"Lenia-Statistics\", \"Elliptical-Fourier\", \"Spectrum-Fourier\", \"BetaVAE\"], \"type\": \"scatterpolar\", \"visible\": true}, {\"fill\": \"toself\", \"fillcolor\": \"rgba(0,114,178, 0.2)\", \"hoverinfo\": \"none\", \"legendgroup\": \"0-1\", \"line\": {\"color\": \"rgba(255,255,255,0)\"}, \"r\": [0.3525862902484059, 0.9889271870747812, 0.3553086906292712, 0.6314397686024062, 0.4041820268385792, 0.3525862902484059, 0.32197273281807987, 0.3811779247645667, 0.589226711375191, 0.3287988888328315, 0.9530532871232659, 0.32197273281807987, 0.3525862902484059], \"showlegend\": false, \"theta\": [\"BetaVAE\", \"Patch-BetaVAE\", \"Lenia-Statistics\", \"Elliptical-Fourier\", \"Spectrum-Fourier\", \"BetaVAE\", \"BetaVAE\", \"Spectrum-Fourier\", \"Elliptical-Fourier\", \"Lenia-Statistics\", \"Patch-BetaVAE\", \"BetaVAE\", \"BetaVAE\"], \"type\": \"scatterpolar\", \"visible\": true}, {\"hoverinfo\": \"r+theta\", \"legendgroup\": \"0-2\", \"line\": {\"color\": \"rgb(230,159,0)\", \"dash\": \"dash\", \"width\": 4}, \"name\": \"IMGEP-BC-LeniaStatistics\", \"r\": [0.2975576662143827, 0.3184379358437936, 0.6342298288508557, 0.30803696443573236, 0.17961282516636423, 0.2975576662143827], \"text\": [\"0.2975576662143827 \\u00b1 0.07347260172970967\", \"0.3184379358437936 \\u00b1 0.0774981745602972\", \"0.6342298288508557 \\u00b1 0.16487341376915424\", \"0.30803696443573236 \\u00b1 0.08884844476634754\", \"0.17961282516636423 \\u00b1 0.03563156764396206\"], \"theta\": [\"BetaVAE\", \"Patch-BetaVAE\", \"Lenia-Statistics\", \"Elliptical-Fourier\", \"Spectrum-Fourier\", \"BetaVAE\"], \"type\": \"scatterpolar\", \"visible\": true}, {\"fill\": \"toself\", \"fillcolor\": \"rgba(230,159,0, 0.2)\", \"hoverinfo\": \"none\", \"legendgroup\": \"0-2\", \"line\": {\"color\": \"rgba(255,255,255,0)\"}, \"r\": [0.37103026794409233, 0.3959361104040908, 0.7991032426200099, 0.39688540920207993, 0.21524439281032628, 0.37103026794409233, 0.22408506448467302, 0.14398125752240218, 0.21918851966938482, 0.46935641508170145, 0.2409397612834964, 0.22408506448467302, 0.37103026794409233], \"showlegend\": false, \"theta\": [\"BetaVAE\", \"Patch-BetaVAE\", \"Lenia-Statistics\", \"Elliptical-Fourier\", \"Spectrum-Fourier\", \"BetaVAE\", \"BetaVAE\", \"Spectrum-Fourier\", \"Elliptical-Fourier\", \"Lenia-Statistics\", \"Patch-BetaVAE\", \"BetaVAE\", \"BetaVAE\"], \"type\": \"scatterpolar\", \"visible\": true}, {\"hoverinfo\": \"r+theta\", \"legendgroup\": \"0-3\", \"line\": {\"color\": \"rgb(0,158,115)\", \"dash\": \"longdashdot\", \"width\": 4}, \"name\": \"IMGEP-BC-EllipticalFourier\", \"r\": [0.22578018995929447, 0.5454951185495118, 0.28227383863080685, 0.9613833660039205, 0.2970356926799758, 0.22578018995929447], \"text\": [\"0.22578018995929447 \\u00b1 0.03693785322703231\", \"0.5454951185495118 \\u00b1 0.14274962439715194\", \"0.28227383863080685 \\u00b1 0.015234157500864648\", \"0.9613833660039205 \\u00b1 0.031055575180825298\", \"0.2970356926799758 \\u00b1 0.05400438936835284\"], \"theta\": [\"BetaVAE\", \"Patch-BetaVAE\", \"Lenia-Statistics\", \"Elliptical-Fourier\", \"Spectrum-Fourier\", \"BetaVAE\"], \"type\": \"scatterpolar\", \"visible\": true}, {\"fill\": \"toself\", \"fillcolor\": \"rgba(0,158,115, 0.2)\", \"hoverinfo\": \"none\", \"legendgroup\": \"0-3\", \"line\": {\"color\": \"rgba(255,255,255,0)\"}, \"r\": [0.2627180431863268, 0.6882447429466638, 0.2975079961316715, 0.9924389411847457, 0.35104008204832865, 0.2627180431863268, 0.18884233673226217, 0.24303130331162298, 0.9303277908230952, 0.2670396811299422, 0.4027454941523599, 0.18884233673226217, 0.2627180431863268], \"showlegend\": false, \"theta\": [\"BetaVAE\", \"Patch-BetaVAE\", \"Lenia-Statistics\", \"Elliptical-Fourier\", \"Spectrum-Fourier\", \"BetaVAE\", \"BetaVAE\", \"Spectrum-Fourier\", \"Elliptical-Fourier\", \"Lenia-Statistics\", \"Patch-BetaVAE\", \"BetaVAE\", \"BetaVAE\"], \"type\": \"scatterpolar\", \"visible\": true}, {\"hoverinfo\": \"r+theta\", \"legendgroup\": \"0-4\", \"line\": {\"color\": \"rgb(0,0,0)\", \"dash\": \"solid\", \"width\": 4}, \"name\": \"IMGEP-BC-SpectrumFourier\", \"r\": [0.29046811397557665, 0.5343654114365411, 0.3200488997555012, 0.17292075049005884, 0.9264972776769511, 0.29046811397557665], \"text\": [\"0.29046811397557665 \\u00b1 0.017286590006634236\", \"0.5343654114365411 \\u00b1 0.05042338480562325\", \"0.3200488997555012 \\u00b1 0.021949127934744586\", \"0.17292075049005884 \\u00b1 0.028714370474454107\", \"0.9264972776769511 \\u00b1 0.06758862084798303\"], \"theta\": [\"BetaVAE\", \"Patch-BetaVAE\", \"Lenia-Statistics\", \"Elliptical-Fourier\", \"Spectrum-Fourier\", \"BetaVAE\"], \"type\": \"scatterpolar\", \"visible\": true}, {\"fill\": \"toself\", \"fillcolor\": \"rgba(0,0,0, 0.2)\", \"hoverinfo\": \"none\", \"legendgroup\": \"0-4\", \"line\": {\"color\": \"rgba(255,255,255,0)\"}, \"r\": [0.3077547039822109, 0.5847887962421644, 0.3419980276902458, 0.20163512096451294, 0.9940858985249341, 0.3077547039822109, 0.2731815239689424, 0.8589086568289681, 0.14420638001560473, 0.29809977182075664, 0.4839420266309179, 0.2731815239689424, 0.3077547039822109], \"showlegend\": false, \"theta\": [\"BetaVAE\", \"Patch-BetaVAE\", \"Lenia-Statistics\", \"Elliptical-Fourier\", \"Spectrum-Fourier\", \"BetaVAE\", \"BetaVAE\", \"Spectrum-Fourier\", \"Elliptical-Fourier\", \"Lenia-Statistics\", \"Patch-BetaVAE\", \"BetaVAE\", \"BetaVAE\"], \"type\": \"scatterpolar\", \"visible\": true}, {\"line\": {\"color\": \"rgb(20, 12, 16)\"}, \"name\": \"IMGEP-BC-BetaVAE - 0\", \"r\": [0.9582767978290366, 0.5500697350069735, 0.35207823960880197, 0.3814057686922431, 0.18451300665456746, 0.9582767978290366], \"theta\": [\"BetaVAE\", \"Patch-BetaVAE\", \"Lenia-Statistics\", \"Elliptical-Fourier\", \"Spectrum-Fourier\", \"BetaVAE\"], \"type\": \"scatterpolar\", \"visible\": false}, {\"line\": {\"color\": \"rgb(40, 24, 33)\"}, \"name\": \"IMGEP-BC-BetaVAE - 1\", \"r\": [0.9297829036635007, 0.5221757322175732, 0.3594132029339853, 0.34892187062447494, 0.20629159104658198, 0.9297829036635007], \"theta\": [\"BetaVAE\", \"Patch-BetaVAE\", \"Lenia-Statistics\", \"Elliptical-Fourier\", \"Spectrum-Fourier\", \"BetaVAE\"], \"type\": \"scatterpolar\", \"visible\": false}, {\"line\": {\"color\": \"rgb(61, 36, 50)\"}, \"name\": \"IMGEP-BC-BetaVAE - 2\", \"r\": [0.9101085481682497, 0.48926080892608087, 0.3264058679706601, 0.3382805936712405, 0.1899576527525711, 0.9101085481682497], \"theta\": [\"BetaVAE\", \"Patch-BetaVAE\", \"Lenia-Statistics\", \"Elliptical-Fourier\", \"Spectrum-Fourier\", \"BetaVAE\"], \"type\": \"scatterpolar\", \"visible\": false}, {\"line\": {\"color\": \"rgb(81, 48, 66)\"}, \"name\": \"IMGEP-BC-BetaVAE - 3\", \"r\": [0.939280868385346, 0.5500697350069735, 0.33496332518337407, 0.35956314757770935, 0.19903206291591047, 0.939280868385346], \"theta\": [\"BetaVAE\", \"Patch-BetaVAE\", \"Lenia-Statistics\", \"Elliptical-Fourier\", \"Spectrum-Fourier\", \"BetaVAE\"], \"type\": \"scatterpolar\", \"visible\": false}, {\"line\": {\"color\": \"rgb(102, 60, 83)\"}, \"name\": \"IMGEP-BC-BetaVAE - 4\", \"r\": [0.932157394843962, 0.48786610878661085, 0.343520782396088, 0.3654438532623915, 0.1984271022383545, 0.932157394843962], \"theta\": [\"BetaVAE\", \"Patch-BetaVAE\", \"Lenia-Statistics\", \"Elliptical-Fourier\", \"Spectrum-Fourier\", \"BetaVAE\"], \"type\": \"scatterpolar\", \"visible\": false}, {\"line\": {\"color\": \"rgb(122, 72, 100)\"}, \"name\": \"IMGEP-BC-BetaVAE - 5\", \"r\": [0.9721845318860244, 0.5188284518828452, 0.3471882640586797, 0.40128815457854944, 0.19540229885057472, 0.9721845318860244], \"theta\": [\"BetaVAE\", \"Patch-BetaVAE\", \"Lenia-Statistics\", \"Elliptical-Fourier\", \"Spectrum-Fourier\", \"BetaVAE\"], \"type\": \"scatterpolar\", \"visible\": false}, {\"line\": {\"color\": \"rgb(142, 84, 116)\"}, \"name\": \"IMGEP-BC-BetaVAE - 6\", \"r\": [1.0, 0.5246861924686193, 0.34596577017114916, 0.4225707084850182, 0.19298245614035087, 1.0], \"theta\": [\"BetaVAE\", \"Patch-BetaVAE\", \"Lenia-Statistics\", \"Elliptical-Fourier\", \"Spectrum-Fourier\", \"BetaVAE\"], \"type\": \"scatterpolar\", \"visible\": false}, {\"line\": {\"color\": \"rgb(163, 96, 133)\"}, \"name\": \"IMGEP-BC-BetaVAE - 7\", \"r\": [0.9721845318860244, 0.4889818688981869, 0.32396088019559904, 0.3511621394567348, 0.19479733817301875, 0.9721845318860244], \"theta\": [\"BetaVAE\", \"Patch-BetaVAE\", \"Lenia-Statistics\", \"Elliptical-Fourier\", \"Spectrum-Fourier\", \"BetaVAE\"], \"type\": \"scatterpolar\", \"visible\": false}, {\"line\": {\"color\": \"rgb(183, 108, 150)\"}, \"name\": \"IMGEP-BC-BetaVAE - 8\", \"r\": [0.9735413839891451, 0.5269177126917712, 0.3508557457212714, 0.373844861383366, 0.18572292800967938, 0.9735413839891451], \"theta\": [\"BetaVAE\", \"Patch-BetaVAE\", \"Lenia-Statistics\", \"Elliptical-Fourier\", \"Spectrum-Fourier\", \"BetaVAE\"], \"type\": \"scatterpolar\", \"visible\": false}, {\"line\": {\"color\": \"rgb(203, 120, 166)\"}, \"name\": \"IMGEP-BC-BetaVAE - 9\", \"r\": [0.914179104477612, 0.5305439330543933, 0.38753056234718825, 0.3808457014841781, 0.17785843920145192, 0.914179104477612], \"theta\": [\"BetaVAE\", \"Patch-BetaVAE\", \"Lenia-Statistics\", \"Elliptical-Fourier\", \"Spectrum-Fourier\", \"BetaVAE\"], \"type\": \"scatterpolar\", \"visible\": false}, {\"line\": {\"color\": \"rgb(0, 11, 17)\"}, \"name\": \"IMGEP-BC-PatchBetaVAE - 0\", \"r\": [0.3378561736770692, 0.9447698744769875, 0.3484107579462103, 0.6191542985158219, 0.39019963702359345, 0.3378561736770692], \"theta\": [\"BetaVAE\", \"Patch-BetaVAE\", \"Lenia-Statistics\", \"Elliptical-Fourier\", \"Spectrum-Fourier\", \"BetaVAE\"], \"type\": \"scatterpolar\", \"visible\": false}, {\"line\": {\"color\": \"rgb(0, 22, 35)\"}, \"name\": \"IMGEP-BC-PatchBetaVAE - 1\", \"r\": [0.3368385345997286, 0.9807531380753138, 0.3581907090464548, 0.6006720806496779, 0.3998790078644888, 0.3368385345997286], \"theta\": [\"BetaVAE\", \"Patch-BetaVAE\", \"Lenia-Statistics\", \"Elliptical-Fourier\", \"Spectrum-Fourier\", \"BetaVAE\"], \"type\": \"scatterpolar\", \"visible\": false}, {\"line\": {\"color\": \"rgb(0, 34, 53)\"}, \"name\": \"IMGEP-BC-PatchBetaVAE - 2\", \"r\": [0.3083446404341927, 0.9718270571827057, 0.36797066014669927, 0.6401568188182581, 0.38294010889292196, 0.3083446404341927], \"theta\": [\"BetaVAE\", \"Patch-BetaVAE\", \"Lenia-Statistics\", \"Elliptical-Fourier\", \"Spectrum-Fourier\", \"BetaVAE\"], \"type\": \"scatterpolar\", \"visible\": false}, {\"line\": {\"color\": \"rgb(0, 45, 71)\"}, \"name\": \"IMGEP-BC-PatchBetaVAE - 3\", \"r\": [0.33649932157394846, 0.9818688981868898, 0.3312958435207824, 0.5849901988238588, 0.39443436176648516, 0.33649932157394846], \"theta\": [\"BetaVAE\", \"Patch-BetaVAE\", \"Lenia-Statistics\", \"Elliptical-Fourier\", \"Spectrum-Fourier\", \"BetaVAE\"], \"type\": \"scatterpolar\", \"visible\": false}, {\"line\": {\"color\": \"rgb(0, 57, 89)\"}, \"name\": \"IMGEP-BC-PatchBetaVAE - 4\", \"r\": [0.3239484396200814, 0.9595536959553695, 0.3410757946210269, 0.6191542985158219, 0.4047186932849365, 0.3239484396200814], \"theta\": [\"BetaVAE\", \"Patch-BetaVAE\", \"Lenia-Statistics\", \"Elliptical-Fourier\", \"Spectrum-Fourier\", \"BetaVAE\"], \"type\": \"scatterpolar\", \"visible\": false}, {\"line\": {\"color\": \"rgb(0, 68, 106)\"}, \"name\": \"IMGEP-BC-PatchBetaVAE - 5\", \"r\": [0.33276797829036636, 1.0, 0.33007334963325186, 0.6006720806496779, 0.3926194797338173, 0.33276797829036636], \"theta\": [\"BetaVAE\", \"Patch-BetaVAE\", \"Lenia-Statistics\", \"Elliptical-Fourier\", \"Spectrum-Fourier\", \"BetaVAE\"], \"type\": \"scatterpolar\", \"visible\": false}, {\"line\": {\"color\": \"rgb(0, 79, 124)\"}, \"name\": \"IMGEP-BC-PatchBetaVAE - 6\", \"r\": [0.366010854816825, 0.9553695955369595, 0.3215158924205379, 0.6381965835900308, 0.3762855414398064, 0.366010854816825], \"theta\": [\"BetaVAE\", \"Patch-BetaVAE\", \"Lenia-Statistics\", \"Elliptical-Fourier\", \"Spectrum-Fourier\", \"BetaVAE\"], \"type\": \"scatterpolar\", \"visible\": false}, {\"line\": {\"color\": \"rgb(0, 91, 142)\"}, \"name\": \"IMGEP-BC-PatchBetaVAE - 7\", \"r\": [0.33242876526458615, 0.99860529986053, 0.33863080684596575, 0.627275273032764, 0.40411373260738054, 0.33242876526458615], \"theta\": [\"BetaVAE\", \"Patch-BetaVAE\", \"Lenia-Statistics\", \"Elliptical-Fourier\", \"Spectrum-Fourier\", \"BetaVAE\"], \"type\": \"scatterpolar\", \"visible\": false}, {\"line\": {\"color\": \"rgb(0, 102, 160)\"}, \"name\": \"IMGEP-BC-PatchBetaVAE - 8\", \"r\": [0.33955223880597013, 0.9623430962343096, 0.3484107579462103, 0.5726687202464296, 0.40834845735027225, 0.33955223880597013], \"theta\": [\"BetaVAE\", \"Patch-BetaVAE\", \"Lenia-Statistics\", \"Elliptical-Fourier\", \"Spectrum-Fourier\", \"BetaVAE\"], \"type\": \"scatterpolar\", \"visible\": false}, {\"line\": {\"color\": \"rgb(0, 113, 177)\"}, \"name\": \"IMGEP-BC-PatchBetaVAE - 9\", \"r\": [0.3585481682496608, 0.9548117154811715, 0.33496332518337407, 0.6003920470456455, 0.37326073805202664, 0.3585481682496608], \"theta\": [\"BetaVAE\", \"Patch-BetaVAE\", \"Lenia-Statistics\", \"Elliptical-Fourier\", \"Spectrum-Fourier\", \"BetaVAE\"], \"type\": \"scatterpolar\", \"visible\": false}, {\"line\": {\"color\": \"rgb(23, 15, 0)\"}, \"name\": \"IMGEP-BC-LeniaStatistics - 0\", \"r\": [0.42842605156037994, 0.4410041841004184, 0.7995110024449877, 0.45841500980117617, 0.1820931639443436, 0.42842605156037994], \"theta\": [\"BetaVAE\", \"Patch-BetaVAE\", \"Lenia-Statistics\", \"Elliptical-Fourier\", \"Spectrum-Fourier\", \"BetaVAE\"], \"type\": \"scatterpolar\", \"visible\": false}, {\"line\": {\"color\": \"rgb(46, 31, 0)\"}, \"name\": \"IMGEP-BC-LeniaStatistics - 1\", \"r\": [0.32801899592944367, 0.295397489539749, 0.6308068459657702, 0.33660039204704567, 0.18935269207501512, 0.32801899592944367], \"theta\": [\"BetaVAE\", \"Patch-BetaVAE\", \"Lenia-Statistics\", \"Elliptical-Fourier\", \"Spectrum-Fourier\", \"BetaVAE\"], \"type\": \"scatterpolar\", \"visible\": false}, {\"line\": {\"color\": \"rgb(69, 47, 0)\"}, \"name\": \"IMGEP-BC-LeniaStatistics - 2\", \"r\": [0.24050203527815467, 0.2733612273361227, 0.5794621026894865, 0.22542705124614953, 0.16273442226255294, 0.24050203527815467], \"theta\": [\"BetaVAE\", \"Patch-BetaVAE\", \"Lenia-Statistics\", \"Elliptical-Fourier\", \"Spectrum-Fourier\", \"BetaVAE\"], \"type\": \"scatterpolar\", \"visible\": false}, {\"line\": {\"color\": \"rgb(92, 63, 0)\"}, \"name\": \"IMGEP-BC-LeniaStatistics - 3\", \"r\": [0.3616010854816825, 0.30767085076708506, 0.5440097799511002, 0.28059367124054885, 0.17967332123411978, 0.3616010854816825], \"theta\": [\"BetaVAE\", \"Patch-BetaVAE\", \"Lenia-Statistics\", \"Elliptical-Fourier\", \"Spectrum-Fourier\", \"BetaVAE\"], \"type\": \"scatterpolar\", \"visible\": false}, {\"line\": {\"color\": \"rgb(115, 79, 0)\"}, \"name\": \"IMGEP-BC-LeniaStatistics - 4\", \"r\": [0.38331071913161463, 0.3548117154811716, 0.6711491442542787, 0.36628395407448894, 0.19298245614035087, 0.38331071913161463], \"theta\": [\"BetaVAE\", \"Patch-BetaVAE\", \"Lenia-Statistics\", \"Elliptical-Fourier\", \"Spectrum-Fourier\", \"BetaVAE\"], \"type\": \"scatterpolar\", \"visible\": false}, {\"line\": {\"color\": \"rgb(138, 95, 0)\"}, \"name\": \"IMGEP-BC-LeniaStatistics - 5\", \"r\": [0.2798507462686567, 0.41785216178521617, 0.7212713936430318, 0.33884066087930553, 0.27586206896551724, 0.2798507462686567], \"theta\": [\"BetaVAE\", \"Patch-BetaVAE\", \"Lenia-Statistics\", \"Elliptical-Fourier\", \"Spectrum-Fourier\", \"BetaVAE\"], \"type\": \"scatterpolar\", \"visible\": false}, {\"line\": {\"color\": \"rgb(161, 111, 0)\"}, \"name\": \"IMGEP-BC-LeniaStatistics - 6\", \"r\": [0.2798507462686567, 0.302928870292887, 0.5122249388753056, 0.2629515541865024, 0.16212946158499697, 0.2798507462686567], \"theta\": [\"BetaVAE\", \"Patch-BetaVAE\", \"Lenia-Statistics\", \"Elliptical-Fourier\", \"Spectrum-Fourier\", \"BetaVAE\"], \"type\": \"scatterpolar\", \"visible\": false}, {\"line\": {\"color\": \"rgb(183, 127, 0)\"}, \"name\": \"IMGEP-BC-LeniaStatistics - 7\", \"r\": [0.17503392130257803, 0.19274755927475593, 0.4119804400977995, 0.16746009521142538, 0.15184513006654568, 0.17503392130257803], \"theta\": [\"BetaVAE\", \"Patch-BetaVAE\", \"Lenia-Statistics\", \"Elliptical-Fourier\", \"Spectrum-Fourier\", \"BetaVAE\"], \"type\": \"scatterpolar\", \"visible\": false}, {\"line\": {\"color\": \"rgb(206, 143, 0)\"}, \"name\": \"IMGEP-BC-LeniaStatistics - 8\", \"r\": [0.22761194029850745, 0.21450488145048816, 0.4718826405867971, 0.21842621114533745, 0.1482153660012099, 0.22761194029850745], \"theta\": [\"BetaVAE\", \"Patch-BetaVAE\", \"Lenia-Statistics\", \"Elliptical-Fourier\", \"Spectrum-Fourier\", \"BetaVAE\"], \"type\": \"scatterpolar\", \"visible\": false}, {\"line\": {\"color\": \"rgb(229, 158, 0)\"}, \"name\": \"IMGEP-BC-LeniaStatistics - 9\", \"r\": [0.27137042062415195, 0.38410041841004183, 1.0, 0.425371044525343, 0.1512401693889897, 0.27137042062415195], \"theta\": [\"BetaVAE\", \"Patch-BetaVAE\", \"Lenia-Statistics\", \"Elliptical-Fourier\", \"Spectrum-Fourier\", \"BetaVAE\"], \"type\": \"scatterpolar\", \"visible\": false}, {\"line\": {\"color\": \"rgb(0, 15, 11)\"}, \"name\": \"IMGEP-BC-EllipticalFourier - 0\", \"r\": [0.2744233378561737, 0.6853556485355649, 0.30073349633251834, 0.9476337160459255, 0.3454325468844525, 0.2744233378561737], \"theta\": [\"BetaVAE\", \"Patch-BetaVAE\", \"Lenia-Statistics\", \"Elliptical-Fourier\", \"Spectrum-Fourier\", \"BetaVAE\"], \"type\": \"scatterpolar\", \"visible\": false}, {\"line\": {\"color\": \"rgb(0, 31, 23)\"}, \"name\": \"IMGEP-BC-EllipticalFourier - 1\", \"r\": [0.19674355495251017, 0.25774058577405856, 0.2591687041564792, 0.9039484738168581, 0.22928009679370842, 0.19674355495251017], \"theta\": [\"BetaVAE\", \"Patch-BetaVAE\", \"Lenia-Statistics\", \"Elliptical-Fourier\", \"Spectrum-Fourier\", \"BetaVAE\"], \"type\": \"scatterpolar\", \"visible\": false}, {\"line\": {\"color\": \"rgb(0, 47, 34)\"}, \"name\": \"IMGEP-BC-EllipticalFourier - 2\", \"r\": [0.23337856173677068, 0.6089260808926081, 0.3080684596577017, 0.9691963035564267, 0.4162129461584997, 0.23337856173677068], \"theta\": [\"BetaVAE\", \"Patch-BetaVAE\", \"Lenia-Statistics\", \"Elliptical-Fourier\", \"Spectrum-Fourier\", \"BetaVAE\"], \"type\": \"scatterpolar\", \"visible\": false}, {\"line\": {\"color\": \"rgb(0, 63, 46)\"}, \"name\": \"IMGEP-BC-EllipticalFourier - 3\", \"r\": [0.16383989145183175, 0.6410041841004184, 0.26772616136919314, 0.9288714645757491, 0.3472474289171204, 0.16383989145183175], \"theta\": [\"BetaVAE\", \"Patch-BetaVAE\", \"Lenia-Statistics\", \"Elliptical-Fourier\", \"Spectrum-Fourier\", \"BetaVAE\"], \"type\": \"scatterpolar\", \"visible\": false}, {\"line\": {\"color\": \"rgb(0, 79, 57)\"}, \"name\": \"IMGEP-BC-EllipticalFourier - 4\", \"r\": [0.17978290366350066, 0.5179916317991632, 0.2775061124694376, 0.9490338840660879, 0.2710223835450696, 0.17978290366350066], \"theta\": [\"BetaVAE\", \"Patch-BetaVAE\", \"Lenia-Statistics\", \"Elliptical-Fourier\", \"Spectrum-Fourier\", \"BetaVAE\"], \"type\": \"scatterpolar\", \"visible\": false}, {\"line\": {\"color\": \"rgb(0, 94, 69)\"}, \"name\": \"IMGEP-BC-EllipticalFourier - 5\", \"r\": [0.22727272727272727, 0.6892608089260809, 0.27995110024449876, 1.0, 0.3073200241984271, 0.22727272727272727], \"theta\": [\"BetaVAE\", \"Patch-BetaVAE\", \"Lenia-Statistics\", \"Elliptical-Fourier\", \"Spectrum-Fourier\", \"BetaVAE\"], \"type\": \"scatterpolar\", \"visible\": false}, {\"line\": {\"color\": \"rgb(0, 110, 80)\"}, \"name\": \"IMGEP-BC-EllipticalFourier - 6\", \"r\": [0.20149253731343283, 0.38688981868898187, 0.2701711491442543, 0.9983197983758051, 0.2637628554143981, 0.20149253731343283], \"theta\": [\"BetaVAE\", \"Patch-BetaVAE\", \"Lenia-Statistics\", \"Elliptical-Fourier\", \"Spectrum-Fourier\", \"BetaVAE\"], \"type\": \"scatterpolar\", \"visible\": false}, {\"line\": {\"color\": \"rgb(0, 126, 91)\"}, \"name\": \"IMGEP-BC-EllipticalFourier - 7\", \"r\": [0.25780189959294436, 0.59302649930265, 0.2713936430317848, 0.9389526743209186, 0.25226860254083483, 0.25780189959294436], \"theta\": [\"BetaVAE\", \"Patch-BetaVAE\", \"Lenia-Statistics\", \"Elliptical-Fourier\", \"Spectrum-Fourier\", \"BetaVAE\"], \"type\": \"scatterpolar\", \"visible\": false}, {\"line\": {\"color\": \"rgb(0, 142, 103)\"}, \"name\": \"IMGEP-BC-EllipticalFourier - 8\", \"r\": [0.2727272727272727, 0.39721059972106, 0.2946210268948655, 0.9910389246709606, 0.26497277676951, 0.2727272727272727], \"theta\": [\"BetaVAE\", \"Patch-BetaVAE\", \"Lenia-Statistics\", \"Elliptical-Fourier\", \"Spectrum-Fourier\", \"BetaVAE\"], \"type\": \"scatterpolar\", \"visible\": false}, {\"line\": {\"color\": \"rgb(0, 157, 114)\"}, \"name\": \"IMGEP-BC-EllipticalFourier - 9\", \"r\": [0.2503392130257802, 0.6775453277545328, 0.293398533007335, 0.9868384206104732, 0.27283726557773746, 0.2503392130257802], \"theta\": [\"BetaVAE\", \"Patch-BetaVAE\", \"Lenia-Statistics\", \"Elliptical-Fourier\", \"Spectrum-Fourier\", \"BetaVAE\"], \"type\": \"scatterpolar\", \"visible\": false}, {\"line\": {\"color\": \"rgb(0, 0, 0)\"}, \"name\": \"IMGEP-BC-SpectrumFourier - 0\", \"r\": [0.3100407055630936, 0.5707112970711297, 0.32273838630806845, 0.18622234668160179, 1.0, 0.3100407055630936], \"theta\": [\"BetaVAE\", \"Patch-BetaVAE\", \"Lenia-Statistics\", \"Elliptical-Fourier\", \"Spectrum-Fourier\", \"BetaVAE\"], \"type\": \"scatterpolar\", \"visible\": false}, {\"line\": {\"color\": \"rgb(0, 0, 0)\"}, \"name\": \"IMGEP-BC-SpectrumFourier - 1\", \"r\": [0.29172320217096337, 0.5693165969316597, 0.3264058679706601, 0.1722206664799776, 0.9733817301875378, 0.29172320217096337], \"theta\": [\"BetaVAE\", \"Patch-BetaVAE\", \"Lenia-Statistics\", \"Elliptical-Fourier\", \"Spectrum-Fourier\", \"BetaVAE\"], \"type\": \"scatterpolar\", \"visible\": false}, {\"line\": {\"color\": \"rgb(0, 0, 0)\"}, \"name\": \"IMGEP-BC-SpectrumFourier - 2\", \"r\": [0.29341926729986434, 0.4616457461645746, 0.33863080684596575, 0.21954634556146738, 0.7676950998185118, 0.29341926729986434], \"theta\": [\"BetaVAE\", \"Patch-BetaVAE\", \"Lenia-Statistics\", \"Elliptical-Fourier\", \"Spectrum-Fourier\", \"BetaVAE\"], \"type\": \"scatterpolar\", \"visible\": false}, {\"line\": {\"color\": \"rgb(0, 0, 0)\"}, \"name\": \"IMGEP-BC-SpectrumFourier - 3\", \"r\": [0.2940976933514247, 0.598884239888424, 0.27383863080684595, 0.22710725287034444, 0.9770114942528736, 0.2940976933514247], \"theta\": [\"BetaVAE\", \"Patch-BetaVAE\", \"Lenia-Statistics\", \"Elliptical-Fourier\", \"Spectrum-Fourier\", \"BetaVAE\"], \"type\": \"scatterpolar\", \"visible\": false}, {\"line\": {\"color\": \"rgb(0, 0, 0)\"}, \"name\": \"IMGEP-BC-SpectrumFourier - 4\", \"r\": [0.28154681139755766, 0.5679218967921896, 0.28973105134474325, 0.14141697003640435, 0.9183303085299456, 0.28154681139755766], \"theta\": [\"BetaVAE\", \"Patch-BetaVAE\", \"Lenia-Statistics\", \"Elliptical-Fourier\", \"Spectrum-Fourier\", \"BetaVAE\"], \"type\": \"scatterpolar\", \"visible\": false}, {\"line\": {\"color\": \"rgb(0, 0, 0)\"}, \"name\": \"IMGEP-BC-SpectrumFourier - 5\", \"r\": [0.3018995929443691, 0.5085076708507671, 0.3251833740831296, 0.16213945673480817, 0.9292196007259528, 0.3018995929443691], \"theta\": [\"BetaVAE\", \"Patch-BetaVAE\", \"Lenia-Statistics\", \"Elliptical-Fourier\", \"Spectrum-Fourier\", \"BetaVAE\"], \"type\": \"scatterpolar\", \"visible\": false}, {\"line\": {\"color\": \"rgb(0, 0, 0)\"}, \"name\": \"IMGEP-BC-SpectrumFourier - 6\", \"r\": [0.30630936227951155, 0.4934449093444909, 0.3117359413202934, 0.17250070008401008, 0.8880822746521476, 0.30630936227951155], \"theta\": [\"BetaVAE\", \"Patch-BetaVAE\", \"Lenia-Statistics\", \"Elliptical-Fourier\", \"Spectrum-Fourier\", \"BetaVAE\"], \"type\": \"scatterpolar\", \"visible\": false}, {\"line\": {\"color\": \"rgb(0, 0, 0)\"}, \"name\": \"IMGEP-BC-SpectrumFourier - 7\", \"r\": [0.24491180461329715, 0.44490934449093444, 0.33985330073349634, 0.13945673480817697, 0.868118572292801, 0.24491180461329715], \"theta\": [\"BetaVAE\", \"Patch-BetaVAE\", \"Lenia-Statistics\", \"Elliptical-Fourier\", \"Spectrum-Fourier\", \"BetaVAE\"], \"type\": \"scatterpolar\", \"visible\": false}, {\"line\": {\"color\": \"rgb(0, 0, 0)\"}, \"name\": \"IMGEP-BC-SpectrumFourier - 8\", \"r\": [0.29511533242876525, 0.5545327754532775, 0.34963325183374083, 0.15009801176141138, 0.9461584996975196, 0.29511533242876525], \"theta\": [\"BetaVAE\", \"Patch-BetaVAE\", \"Lenia-Statistics\", \"Elliptical-Fourier\", \"Spectrum-Fourier\", \"BetaVAE\"], \"type\": \"scatterpolar\", \"visible\": false}, {\"line\": {\"color\": \"rgb(0, 0, 0)\"}, \"name\": \"IMGEP-BC-SpectrumFourier - 9\", \"r\": [0.2856173677069199, 0.5737796373779638, 0.32273838630806845, 0.15849901988238588, 0.9969751966122202, 0.2856173677069199], \"theta\": [\"BetaVAE\", \"Patch-BetaVAE\", \"Lenia-Statistics\", \"Elliptical-Fourier\", \"Spectrum-Fourier\", \"BetaVAE\"], \"type\": \"scatterpolar\", \"visible\": false}],\n",
       "                        {\"font\": {\"family\": \"Times New Roman\", \"size\": 20}, \"height\": 508, \"legend\": {\"x\": 1, \"xanchor\": \"right\", \"y\": 0, \"yanchor\": \"bottom\"}, \"margin\": {\"b\": 60, \"l\": 0, \"r\": 0, \"t\": 50}, \"template\": {\"data\": {\"bar\": [{\"error_x\": {\"color\": \"#2a3f5f\"}, \"error_y\": {\"color\": \"#2a3f5f\"}, \"marker\": {\"line\": {\"color\": \"#E5ECF6\", \"width\": 0.5}}, \"type\": \"bar\"}], \"barpolar\": [{\"marker\": {\"line\": {\"color\": \"#E5ECF6\", \"width\": 0.5}}, \"type\": \"barpolar\"}], \"carpet\": [{\"aaxis\": {\"endlinecolor\": \"#2a3f5f\", \"gridcolor\": \"white\", \"linecolor\": \"white\", \"minorgridcolor\": \"white\", \"startlinecolor\": \"#2a3f5f\"}, \"baxis\": {\"endlinecolor\": \"#2a3f5f\", \"gridcolor\": \"white\", \"linecolor\": \"white\", \"minorgridcolor\": \"white\", \"startlinecolor\": \"#2a3f5f\"}, \"type\": \"carpet\"}], \"choropleth\": [{\"colorbar\": {\"outlinewidth\": 0, \"ticks\": \"\"}, \"type\": \"choropleth\"}], \"contour\": [{\"colorbar\": {\"outlinewidth\": 0, \"ticks\": \"\"}, \"colorscale\": [[0.0, \"#0d0887\"], [0.1111111111111111, \"#46039f\"], [0.2222222222222222, \"#7201a8\"], [0.3333333333333333, \"#9c179e\"], [0.4444444444444444, \"#bd3786\"], [0.5555555555555556, \"#d8576b\"], [0.6666666666666666, \"#ed7953\"], [0.7777777777777778, \"#fb9f3a\"], [0.8888888888888888, \"#fdca26\"], [1.0, \"#f0f921\"]], \"type\": \"contour\"}], \"contourcarpet\": [{\"colorbar\": {\"outlinewidth\": 0, \"ticks\": \"\"}, \"type\": \"contourcarpet\"}], \"heatmap\": [{\"colorbar\": {\"outlinewidth\": 0, \"ticks\": \"\"}, \"colorscale\": [[0.0, \"#0d0887\"], [0.1111111111111111, \"#46039f\"], [0.2222222222222222, \"#7201a8\"], [0.3333333333333333, \"#9c179e\"], [0.4444444444444444, \"#bd3786\"], [0.5555555555555556, \"#d8576b\"], [0.6666666666666666, \"#ed7953\"], [0.7777777777777778, \"#fb9f3a\"], [0.8888888888888888, \"#fdca26\"], [1.0, \"#f0f921\"]], \"type\": \"heatmap\"}], \"heatmapgl\": [{\"colorbar\": {\"outlinewidth\": 0, \"ticks\": \"\"}, \"colorscale\": [[0.0, \"#0d0887\"], [0.1111111111111111, \"#46039f\"], [0.2222222222222222, \"#7201a8\"], [0.3333333333333333, \"#9c179e\"], [0.4444444444444444, \"#bd3786\"], [0.5555555555555556, \"#d8576b\"], [0.6666666666666666, \"#ed7953\"], [0.7777777777777778, \"#fb9f3a\"], [0.8888888888888888, \"#fdca26\"], [1.0, \"#f0f921\"]], \"type\": \"heatmapgl\"}], \"histogram\": [{\"marker\": {\"colorbar\": {\"outlinewidth\": 0, \"ticks\": \"\"}}, \"type\": \"histogram\"}], \"histogram2d\": [{\"colorbar\": {\"outlinewidth\": 0, \"ticks\": \"\"}, \"colorscale\": [[0.0, \"#0d0887\"], [0.1111111111111111, \"#46039f\"], [0.2222222222222222, \"#7201a8\"], [0.3333333333333333, \"#9c179e\"], [0.4444444444444444, \"#bd3786\"], [0.5555555555555556, \"#d8576b\"], [0.6666666666666666, \"#ed7953\"], [0.7777777777777778, \"#fb9f3a\"], [0.8888888888888888, \"#fdca26\"], [1.0, \"#f0f921\"]], \"type\": \"histogram2d\"}], \"histogram2dcontour\": [{\"colorbar\": {\"outlinewidth\": 0, \"ticks\": \"\"}, \"colorscale\": [[0.0, \"#0d0887\"], [0.1111111111111111, \"#46039f\"], [0.2222222222222222, \"#7201a8\"], [0.3333333333333333, \"#9c179e\"], [0.4444444444444444, \"#bd3786\"], [0.5555555555555556, \"#d8576b\"], [0.6666666666666666, \"#ed7953\"], [0.7777777777777778, \"#fb9f3a\"], [0.8888888888888888, \"#fdca26\"], [1.0, \"#f0f921\"]], \"type\": \"histogram2dcontour\"}], \"mesh3d\": [{\"colorbar\": {\"outlinewidth\": 0, \"ticks\": \"\"}, \"type\": \"mesh3d\"}], \"parcoords\": [{\"line\": {\"colorbar\": {\"outlinewidth\": 0, \"ticks\": \"\"}}, \"type\": \"parcoords\"}], \"pie\": [{\"automargin\": true, \"type\": \"pie\"}], \"scatter\": [{\"marker\": {\"colorbar\": {\"outlinewidth\": 0, \"ticks\": \"\"}}, \"type\": \"scatter\"}], \"scatter3d\": [{\"line\": {\"colorbar\": {\"outlinewidth\": 0, \"ticks\": \"\"}}, \"marker\": {\"colorbar\": {\"outlinewidth\": 0, \"ticks\": \"\"}}, \"type\": \"scatter3d\"}], \"scattercarpet\": [{\"marker\": {\"colorbar\": {\"outlinewidth\": 0, \"ticks\": \"\"}}, \"type\": \"scattercarpet\"}], \"scattergeo\": [{\"marker\": {\"colorbar\": {\"outlinewidth\": 0, \"ticks\": \"\"}}, \"type\": \"scattergeo\"}], \"scattergl\": [{\"marker\": {\"colorbar\": {\"outlinewidth\": 0, \"ticks\": \"\"}}, \"type\": \"scattergl\"}], \"scattermapbox\": [{\"marker\": {\"colorbar\": {\"outlinewidth\": 0, \"ticks\": \"\"}}, \"type\": \"scattermapbox\"}], \"scatterpolar\": [{\"marker\": {\"colorbar\": {\"outlinewidth\": 0, \"ticks\": \"\"}}, \"type\": \"scatterpolar\"}], \"scatterpolargl\": [{\"marker\": {\"colorbar\": {\"outlinewidth\": 0, \"ticks\": \"\"}}, \"type\": \"scatterpolargl\"}], \"scatterternary\": [{\"marker\": {\"colorbar\": {\"outlinewidth\": 0, \"ticks\": \"\"}}, \"type\": \"scatterternary\"}], \"surface\": [{\"colorbar\": {\"outlinewidth\": 0, \"ticks\": \"\"}, \"colorscale\": [[0.0, \"#0d0887\"], [0.1111111111111111, \"#46039f\"], [0.2222222222222222, \"#7201a8\"], [0.3333333333333333, \"#9c179e\"], [0.4444444444444444, \"#bd3786\"], [0.5555555555555556, \"#d8576b\"], [0.6666666666666666, \"#ed7953\"], [0.7777777777777778, \"#fb9f3a\"], [0.8888888888888888, \"#fdca26\"], [1.0, \"#f0f921\"]], \"type\": \"surface\"}], \"table\": [{\"cells\": {\"fill\": {\"color\": \"#EBF0F8\"}, \"line\": {\"color\": \"white\"}}, \"header\": {\"fill\": {\"color\": \"#C8D4E3\"}, \"line\": {\"color\": \"white\"}}, \"type\": \"table\"}]}, \"layout\": {\"annotationdefaults\": {\"arrowcolor\": \"#2a3f5f\", \"arrowhead\": 0, \"arrowwidth\": 1}, \"coloraxis\": {\"colorbar\": {\"outlinewidth\": 0, \"ticks\": \"\"}}, \"colorscale\": {\"diverging\": [[0, \"#8e0152\"], [0.1, \"#c51b7d\"], [0.2, \"#de77ae\"], [0.3, \"#f1b6da\"], [0.4, \"#fde0ef\"], [0.5, \"#f7f7f7\"], [0.6, \"#e6f5d0\"], [0.7, \"#b8e186\"], [0.8, \"#7fbc41\"], [0.9, \"#4d9221\"], [1, \"#276419\"]], \"sequential\": [[0.0, \"#0d0887\"], [0.1111111111111111, \"#46039f\"], [0.2222222222222222, \"#7201a8\"], [0.3333333333333333, \"#9c179e\"], [0.4444444444444444, \"#bd3786\"], [0.5555555555555556, \"#d8576b\"], [0.6666666666666666, \"#ed7953\"], [0.7777777777777778, \"#fb9f3a\"], [0.8888888888888888, \"#fdca26\"], [1.0, \"#f0f921\"]], \"sequentialminus\": [[0.0, \"#0d0887\"], [0.1111111111111111, \"#46039f\"], [0.2222222222222222, \"#7201a8\"], [0.3333333333333333, \"#9c179e\"], [0.4444444444444444, \"#bd3786\"], [0.5555555555555556, \"#d8576b\"], [0.6666666666666666, \"#ed7953\"], [0.7777777777777778, \"#fb9f3a\"], [0.8888888888888888, \"#fdca26\"], [1.0, \"#f0f921\"]]}, \"colorway\": [\"#636efa\", \"#EF553B\", \"#00cc96\", \"#ab63fa\", \"#FFA15A\", \"#19d3f3\", \"#FF6692\", \"#B6E880\", \"#FF97FF\", \"#FECB52\"], \"font\": {\"color\": \"#2a3f5f\"}, \"geo\": {\"bgcolor\": \"white\", \"lakecolor\": \"white\", \"landcolor\": \"#E5ECF6\", \"showlakes\": true, \"showland\": true, \"subunitcolor\": \"white\"}, \"hoverlabel\": {\"align\": \"left\"}, \"hovermode\": \"closest\", \"mapbox\": {\"style\": \"light\"}, \"paper_bgcolor\": \"white\", \"plot_bgcolor\": \"#E5ECF6\", \"polar\": {\"angularaxis\": {\"gridcolor\": \"white\", \"linecolor\": \"white\", \"ticks\": \"\"}, \"bgcolor\": \"#E5ECF6\", \"radialaxis\": {\"gridcolor\": \"white\", \"linecolor\": \"white\", \"ticks\": \"\"}}, \"scene\": {\"xaxis\": {\"backgroundcolor\": \"#E5ECF6\", \"gridcolor\": \"white\", \"gridwidth\": 2, \"linecolor\": \"white\", \"showbackground\": true, \"ticks\": \"\", \"zerolinecolor\": \"white\"}, \"yaxis\": {\"backgroundcolor\": \"#E5ECF6\", \"gridcolor\": \"white\", \"gridwidth\": 2, \"linecolor\": \"white\", \"showbackground\": true, \"ticks\": \"\", \"zerolinecolor\": \"white\"}, \"zaxis\": {\"backgroundcolor\": \"#E5ECF6\", \"gridcolor\": \"white\", \"gridwidth\": 2, \"linecolor\": \"white\", \"showbackground\": true, \"ticks\": \"\", \"zerolinecolor\": \"white\"}}, \"shapedefaults\": {\"line\": {\"color\": \"#2a3f5f\"}}, \"ternary\": {\"aaxis\": {\"gridcolor\": \"white\", \"linecolor\": \"white\", \"ticks\": \"\"}, \"baxis\": {\"gridcolor\": \"white\", \"linecolor\": \"white\", \"ticks\": \"\"}, \"bgcolor\": \"#E5ECF6\", \"caxis\": {\"gridcolor\": \"white\", \"linecolor\": \"white\", \"ticks\": \"\"}}, \"title\": {\"x\": 0.05}, \"xaxis\": {\"automargin\": true, \"gridcolor\": \"white\", \"linecolor\": \"white\", \"ticks\": \"\", \"title\": {\"standoff\": 15}, \"zerolinecolor\": \"white\", \"zerolinewidth\": 2}, \"yaxis\": {\"automargin\": true, \"gridcolor\": \"white\", \"linecolor\": \"white\", \"ticks\": \"\", \"title\": {\"standoff\": 15}, \"zerolinecolor\": \"white\", \"zerolinewidth\": 2}}}, \"title\": {\"text\": \"Diversities of patterns in each BC\", \"x\": 0.04, \"xanchor\": \"left\", \"y\": 1, \"yanchor\": \"top\"}, \"width\": 1018, \"xaxis\": {\"anchor\": \"y\", \"domain\": [0.0, 1.0]}, \"yaxis\": {\"anchor\": \"x\", \"domain\": [0.0, 1.0]}},\n",
       "                        {\"responsive\": true}\n",
       "                    ).then(function(){\n",
       "                            \n",
       "var gd = document.getElementById('7f483219-8b47-44b6-8f24-299c03e4392d');\n",
       "var x = new MutationObserver(function (mutations, observer) {{\n",
       "        var display = window.getComputedStyle(gd).display;\n",
       "        if (!display || display === 'none') {{\n",
       "            console.log([gd, 'removed!']);\n",
       "            Plotly.purge(gd);\n",
       "            observer.disconnect();\n",
       "        }}\n",
       "}});\n",
       "\n",
       "// Listen for the removal of the full notebook cells\n",
       "var notebookContainer = gd.closest('#notebook-container');\n",
       "if (notebookContainer) {{\n",
       "    x.observe(notebookContainer, {childList: true});\n",
       "}}\n",
       "\n",
       "// Listen for the clearing of the current output cell\n",
       "var outputEl = gd.closest('.output');\n",
       "if (outputEl) {{\n",
       "    x.observe(outputEl, {childList: true});\n",
       "}}\n",
       "\n",
       "                        })\n",
       "                };\n",
       "                });\n",
       "            </script>\n",
       "        </div>"
      ]
     },
     "metadata": {},
     "output_type": "display_data"
    }
   ],
   "source": [
    "# PLOTTING\n",
    "config = default_config\n",
    "config['layout']['title'] = dict(text='Diversities of patterns in each BC', xanchor='left', x=0.04, yanchor='top', y=1)\n",
    "config['layout']['legend'] = dict(xanchor='right', x=1, yanchor='bottom', y=0)\n",
    "config['layout']['width'] = width_full\n",
    "config['layout']['height'] = height_default_1 * 2\n",
    "config['thetas'] =  ['BetaVAE','Patch-BetaVAE','Lenia-Statistics','Elliptical-Fourier','Spectrum-Fourier']\n",
    "fig = ad.gui.jupyter.plot_scatter_per_datasource(\n",
    "        experiment_ids=[exp_def['id'] for exp_def in experiment_definitions],\n",
    "        repetition_ids=repetition_ids, \n",
    "        data=data_diversity, \n",
    "        data_source=['n_explored_bins'], \n",
    "        config=config)   \n",
    "\n",
    "#plotly.io.write_image(fig, 'main_figure_2.pdf')"
   ]
  },
  {
   "cell_type": "code",
   "execution_count": null,
   "metadata": {},
   "outputs": [],
   "source": []
  }
 ],
 "metadata": {
  "anaconda-cloud": {},
  "kernelspec": {
   "display_name": "Python [conda env:holmes]",
   "language": "python",
   "name": "conda-env-holmes-py"
  },
  "language_info": {
   "codemirror_mode": {
    "name": "ipython",
    "version": 3
   },
   "file_extension": ".py",
   "mimetype": "text/x-python",
   "name": "python",
   "nbconvert_exporter": "python",
   "pygments_lexer": "ipython3",
   "version": "3.6.10"
  },
  "toc": {
   "base_numbering": 1,
   "nav_menu": {},
   "number_sections": true,
   "sideBar": true,
   "skip_h1_title": false,
   "title_cell": "Table of Contents",
   "title_sidebar": "Contents",
   "toc_cell": false,
   "toc_position": {},
   "toc_section_display": true,
   "toc_window_display": false
  },
  "varInspector": {
   "cols": {
    "lenName": 16,
    "lenType": 16,
    "lenVar": 40
   },
   "kernels_config": {
    "python": {
     "delete_cmd_postfix": "",
     "delete_cmd_prefix": "del ",
     "library": "var_list.py",
     "varRefreshCmd": "print(var_dic_list())"
    },
    "r": {
     "delete_cmd_postfix": ") ",
     "delete_cmd_prefix": "rm(",
     "library": "var_list.r",
     "varRefreshCmd": "cat(var_dic_list()) "
    }
   },
   "types_to_exclude": [
    "module",
    "function",
    "builtin_function_or_method",
    "instance",
    "_Feature"
   ],
   "window_display": false
  }
 },
 "nbformat": 4,
 "nbformat_minor": 4
}
